{
 "cells": [
  {
   "cell_type": "code",
   "execution_count": 1,
   "metadata": {},
   "outputs": [],
   "source": [
    "import numpy as np\n",
    "import h5py\n",
    "import math\n",
    "import time,sys,os\n",
    "import datetime\n",
    "import matplotlib.pyplot as plt\n",
    "from astropy.cosmology import Planck15, FlatLambdaCDM, z_at_value\n",
    "import astropy.units as u\n",
    "import lightcone as lc\n",
    "import importlib"
   ]
  },
  {
   "cell_type": "code",
   "execution_count": 58,
   "metadata": {},
   "outputs": [
    {
     "data": {
      "text/plain": [
       "<module 'lightcone' from '/cosma/home/dp004/dc-boot5/Jupyter Notebooks/Order Gadget Snapshots/lightcone.py'>"
      ]
     },
     "execution_count": 58,
     "metadata": {},
     "output_type": "execute_result"
    }
   ],
   "source": [
    "importlib.reload(lc)"
   ]
  },
  {
   "cell_type": "code",
   "execution_count": 3,
   "metadata": {},
   "outputs": [],
   "source": [
    "DEBUG = True"
   ]
  },
  {
   "cell_type": "code",
   "execution_count": 118,
   "metadata": {},
   "outputs": [],
   "source": [
    "# set cosmology\n",
    "cosmo = FlatLambdaCDM(H0=100, Om0=0.30711520)    "
   ]
  },
  {
   "cell_type": "code",
   "execution_count": 4,
   "metadata": {},
   "outputs": [],
   "source": [
    "# define particle datatype\n",
    "vect = np.dtype([('x', np.float32),('y', np.float32),('z', np.float32)])\n",
    "#part = np.dtype([('pos', vect),('vel', vect),('ID', np.ulonglong), ('z', np.float32), ('r', np.float32),('RA', np.float32),('Dec', np.float32)])\n",
    "part = np.dtype([('pos', vect),('vel', vect),('ID', np.ulonglong)])"
   ]
  },
  {
   "cell_type": "code",
   "execution_count": 5,
   "metadata": {},
   "outputs": [],
   "source": [
    "snap_path = '/cosma6/data/dp004/dc-boot5/Ordered_Snapshots/Npart_512_Box_750-Fiducial/'"
   ]
  },
  {
   "cell_type": "code",
   "execution_count": 6,
   "metadata": {},
   "outputs": [],
   "source": [
    "BoxSize = 750"
   ]
  },
  {
   "cell_type": "code",
   "execution_count": 7,
   "metadata": {},
   "outputs": [],
   "source": [
    "snap = 119\n",
    "fnameA = snap_path + 'ordered_snapshot.snap_{0:03d}.hdf5'.format(snap)"
   ]
  },
  {
   "cell_type": "code",
   "execution_count": 8,
   "metadata": {},
   "outputs": [
    {
     "name": "stdout",
     "output_type": "stream",
     "text": [
      "Done A, z = 0.079 number of particles = 134217728\n"
     ]
    }
   ],
   "source": [
    "with h5py.File(fnameA, 'r') as fA:\n",
    "    h = fA['Header']\n",
    "    NumParts = h.attrs['NumPart_Total'][1]\n",
    "    zA = h.attrs['Redshift']\n",
    "    pA =np.empty(fA['PartType1'].shape, dtype=part)\n",
    "    fA['PartType1'].read_direct(pA)  \n",
    "print('Done A, z = {0:0.3f} number of particles = {1:0d}'.format(zA,NumParts))"
   ]
  },
  {
   "cell_type": "code",
   "execution_count": 9,
   "metadata": {},
   "outputs": [],
   "source": [
    "snap = 120\n",
    "fnameB = snap_path + 'ordered_snapshot.snap_{0:03d}.hdf5'.format(snap)"
   ]
  },
  {
   "cell_type": "code",
   "execution_count": 10,
   "metadata": {},
   "outputs": [
    {
     "name": "stdout",
     "output_type": "stream",
     "text": [
      "Done B, z = 0.063 \n"
     ]
    }
   ],
   "source": [
    "with h5py.File(fnameB, 'r') as fB:\n",
    "    h = fB['Header']\n",
    "    zB = h.attrs['Redshift']\n",
    "    pB =np.empty(fB['PartType1'].shape, dtype=part)\n",
    "    fB['PartType1'].read_direct(pB)  \n",
    "print('Done B, z = {0:0.3f} '.format(zB))"
   ]
  },
  {
   "cell_type": "code",
   "execution_count": 11,
   "metadata": {},
   "outputs": [],
   "source": [
    "snap = 121\n",
    "fnameC = snap_path + 'ordered_snapshot.snap_{0:03d}.hdf5'.format(snap)"
   ]
  },
  {
   "cell_type": "code",
   "execution_count": 12,
   "metadata": {},
   "outputs": [
    {
     "name": "stdout",
     "output_type": "stream",
     "text": [
      "Done C, z = 0.047 \n"
     ]
    }
   ],
   "source": [
    "with h5py.File(fnameC, 'r') as fC:\n",
    "    h = fC['Header']\n",
    "    zC = h.attrs['Redshift']\n",
    "    pC =np.empty(fC['PartType1'].shape, dtype=part)\n",
    "    fC['PartType1'].read_direct(pC)  \n",
    "print('Done C, z = {0:0.3f} '.format(zC))"
   ]
  },
  {
   "cell_type": "code",
   "execution_count": 13,
   "metadata": {},
   "outputs": [],
   "source": [
    "rA = np.sqrt(pA['pos']['x']**2 + pA['pos']['y']**2 + pA['pos']['z']**2)\n",
    "rB = np.sqrt(pB['pos']['x']**2 + pB['pos']['y']**2 + pB['pos']['z']**2)\n",
    "rC = np.sqrt(pC['pos']['x']**2 + pC['pos']['y']**2 + pC['pos']['z']**2)"
   ]
  },
  {
   "cell_type": "code",
   "execution_count": 14,
   "metadata": {},
   "outputs": [],
   "source": [
    "vA = np.sqrt(pA['vel']['x']**2 + pA['vel']['y']**2 + pA['vel']['z']**2)\n",
    "vB = np.sqrt(pB['vel']['x']**2 + pB['vel']['y']**2 + pB['vel']['z']**2)\n",
    "vC = np.sqrt(pC['vel']['x']**2 + pC['vel']['y']**2 + pC['vel']['z']**2)"
   ]
  },
  {
   "cell_type": "code",
   "execution_count": 15,
   "metadata": {},
   "outputs": [],
   "source": [
    "vsA = np.sign(pA['vel']['x'] + pA['vel']['y'] + pA['vel']['z'])\n",
    "vsB = np.sign(pB['vel']['x'] + pB['vel']['y'] + pB['vel']['z'])\n",
    "vsC = np.sign(pC['vel']['x'] + pC['vel']['y'] + pC['vel']['z'])"
   ]
  },
  {
   "cell_type": "code",
   "execution_count": 16,
   "metadata": {},
   "outputs": [],
   "source": [
    "vrA = vA * vsA\n",
    "vrB = vB * vsB\n",
    "vrC = vC * vsC"
   ]
  },
  {
   "cell_type": "code",
   "execution_count": 17,
   "metadata": {},
   "outputs": [],
   "source": [
    "dx = pB['pos']['x'] - pA['pos']['x']\n",
    "dy = pB['pos']['y'] - pA['pos']['y']\n",
    "dz = pB['pos']['z'] - pA['pos']['z']\n",
    "dr = rB - rA"
   ]
  },
  {
   "cell_type": "code",
   "execution_count": 109,
   "metadata": {},
   "outputs": [],
   "source": [
    "sdr = np.sign(dr)"
   ]
  },
  {
   "cell_type": "code",
   "execution_count": 110,
   "metadata": {},
   "outputs": [],
   "source": [
    "#compute snapshots where sign of particle velocity is opposite to sign of drift velocity\n",
    "dsne = np.not_equal(vsB, sdr)"
   ]
  },
  {
   "cell_type": "code",
   "execution_count": 111,
   "metadata": {},
   "outputs": [],
   "source": [
    "dse = np.equal(vsB, sdr)"
   ]
  },
  {
   "cell_type": "code",
   "execution_count": 112,
   "metadata": {},
   "outputs": [
    {
     "data": {
      "text/plain": [
       "(68295290.0, 0.5088395438429747)"
      ]
     },
     "execution_count": 112,
     "metadata": {},
     "output_type": "execute_result"
    }
   ],
   "source": [
    "vsA[vsA>0].sum(),vsA[vsA>0].sum()/vsA.size"
   ]
  },
  {
   "cell_type": "code",
   "execution_count": 113,
   "metadata": {},
   "outputs": [
    {
     "data": {
      "text/plain": [
       "(-65922440.0, -0.4911604487064447)"
      ]
     },
     "execution_count": 113,
     "metadata": {},
     "output_type": "execute_result"
    }
   ],
   "source": [
    "vsA[vsA<0].sum(),vsA[vsA<0].sum()/vsA.size"
   ]
  },
  {
   "cell_type": "code",
   "execution_count": 114,
   "metadata": {},
   "outputs": [
    {
     "data": {
      "text/plain": [
       "2372849.0"
      ]
     },
     "execution_count": 114,
     "metadata": {},
     "output_type": "execute_result"
    }
   ],
   "source": [
    "vsA.sum()"
   ]
  },
  {
   "cell_type": "code",
   "execution_count": 115,
   "metadata": {},
   "outputs": [
    {
     "data": {
      "text/plain": [
       "(18287584, 115930145)"
      ]
     },
     "execution_count": 115,
     "metadata": {},
     "output_type": "execute_result"
    }
   ],
   "source": [
    "dsne.sum(), dse.sum()"
   ]
  },
  {
   "cell_type": "markdown",
   "metadata": {},
   "source": [
    "## Analysis\n",
    "We can assume that for every particle where the drift velocity is of opposite sign to the instantaneous RMS velocity, the particle is likely to be in some form of orbital trajectory.  Assuming cosmic isotropy and homogeneity, then for each such particle, there should be an equal number of particles  in orbital trajectories where the sign of the orbital velocity and the drift velocity is the same. Hence:"
   ]
  },
  {
   "cell_type": "code",
   "execution_count": 117,
   "metadata": {},
   "outputs": [
    {
     "name": "stdout",
     "output_type": "stream",
     "text": [
      "The proportion of particles in orbital trajectories is >= 27.3%\n"
     ]
    }
   ],
   "source": [
    "o_frac = dsne.sum() * 2 / dsne.size\n",
    "print('The proportion of particles in orbital trajectories is >= {0:0.1%}'.format(o_frac))"
   ]
  },
  {
   "cell_type": "code",
   "execution_count": 125,
   "metadata": {},
   "outputs": [
    {
     "name": "stdout",
     "output_type": "stream",
     "text": [
      "Time difference betwen snap A and snap B = 4.558e+15 s\n"
     ]
    }
   ],
   "source": [
    "# compute delta t\n",
    "delT = (cosmo.lookback_time(zA)-cosmo.lookback_time(zB)).to(u.s)\n",
    "print('Time difference betwen snap A and snap B = {0:01.3e}'.format(delT))"
   ]
  },
  {
   "cell_type": "code",
   "execution_count": 131,
   "metadata": {},
   "outputs": [],
   "source": [
    "drv = (dr*u.Mpc/delT).to(u.km/u.s)"
   ]
  },
  {
   "cell_type": "code",
   "execution_count": 142,
   "metadata": {},
   "outputs": [],
   "source": [
    "b = np.greater(vrA, drv.value*4)"
   ]
  },
  {
   "cell_type": "code",
   "execution_count": 143,
   "metadata": {},
   "outputs": [
    {
     "data": {
      "text/plain": [
       "0.4580389227119168"
      ]
     },
     "execution_count": 143,
     "metadata": {},
     "output_type": "execute_result"
    }
   ],
   "source": [
    "b.sum()/b.size"
   ]
  },
  {
   "cell_type": "markdown",
   "metadata": {},
   "source": [
    "## Drift velocity vs particle radial velocity\n",
    "For many particles not in orbital trajectories, the drift velocity between snapshots as measured by $\\Delta \\vec{x}$ , will be such that  $\\Delta \\vec{x} / \\Delta t \\simeq v_{RMS}$ .\n",
    "\n",
    "Howevver, for many other particles,  $ v_{RMS}$ > $\\Delta \\vec{x} / \\Delta t $ as shown in the histogram below."
   ]
  },
  {
   "cell_type": "code",
   "execution_count": 156,
   "metadata": {},
   "outputs": [
    {
     "name": "stderr",
     "output_type": "stream",
     "text": [
      "/cosma/home/dp004/dc-boot5/.conda/envs/python3_env/lib/python3.6/site-packages/ipykernel_launcher.py:1: RuntimeWarning: divide by zero encountered in true_divide\n",
      "  \"\"\"Entry point for launching an IPython kernel.\n"
     ]
    }
   ],
   "source": [
    "vrat = vrA[1::]/drv[1::].value"
   ]
  },
  {
   "cell_type": "code",
   "execution_count": 152,
   "metadata": {},
   "outputs": [
    {
     "data": {
      "image/png": "[encoded data removed]",
      "text/plain": [
       "<Figure size 576x576 with 1 Axes>"
      ]
     },
     "metadata": {
      "needs_background": "light"
     },
     "output_type": "display_data"
    }
   ],
   "source": [
    "fi1g = plt.subplots(figsize = (8,8))\n",
    "plt.hist(vrat , density=True, log=False, bins=1000, range=(0,10)) \n",
    "plt.title('$v_{RMS}/v_{\\Delta x}$')\n",
    "plt.xlabel('$v_{RMS}/v_{\\Delta x}$')\n",
    "plt.ylabel('count')\n",
    "plt.show()"
   ]
  },
  {
   "cell_type": "code",
   "execution_count": 41,
   "metadata": {},
   "outputs": [],
   "source": [
    "w1 = (dx>BoxSize/2) | (dy>BoxSize/2) | (dz>BoxSize/2)\n",
    "w2 = (dx>BoxSize/2) & ((dy>BoxSize/2) | (dy>BoxSize/2))\n",
    "w3 = (dx>BoxSize/2) & (dy>BoxSize/2) & (dy>BoxSize/2)"
   ]
  },
  {
   "cell_type": "code",
   "execution_count": 11,
   "metadata": {},
   "outputs": [
    {
     "data": {
      "text/plain": [
       "0.011654943227767944"
      ]
     },
     "execution_count": 11,
     "metadata": {},
     "output_type": "execute_result"
    }
   ],
   "source": [
    "w1.sum()/NumParts * 100"
   ]
  },
  {
   "cell_type": "code",
   "execution_count": 18,
   "metadata": {},
   "outputs": [],
   "source": [
    "f = [33923867, 33923868, 34448157, 34451741, 34709265, 34713374,\n",
    "       34976541, 34977052, 36018974, 36020510, 36281117, 36283166,\n",
    "       36543775, 36545310, 36545823, 36546848, 36806431, 36807456,\n",
    "       36807967, 36808992, 36811551, 37071135, 37332766, 37333791,\n",
    "       37335318, 37593361, 53571298, 56764043, 57027722, 57027724,\n",
    "       57549964, 57550476, 57814156, 57814157, 58076300, 65208101,\n",
    "       65993505, 66517283, 67043101, 67306270, 67306272, 67307297,\n",
    "       67307811, 67569442, 68090657, 70924054]"
   ]
  },
  {
   "cell_type": "code",
   "execution_count": 19,
   "metadata": {},
   "outputs": [],
   "source": [
    "pA1 = pA[f]\n",
    "pB1 = pB[f]\n",
    "pC1 = pC[f]"
   ]
  },
  {
   "cell_type": "code",
   "execution_count": 20,
   "metadata": {},
   "outputs": [
    {
     "data": {
      "text/plain": [
       "((-2781.9734, 75.44845, -222.12311),\n",
       " (-3175.7424, 178.14557, -92.94676),\n",
       " (-2431.0947, 91.73712, 149.1299))"
      ]
     },
     "execution_count": 20,
     "metadata": {},
     "output_type": "execute_result"
    }
   ],
   "source": [
    "pA1['vel'][0],pB1['vel'][0],pC1['vel'][0]"
   ]
  },
  {
   "cell_type": "code",
   "execution_count": 21,
   "metadata": {},
   "outputs": [
    {
     "data": {
      "text/plain": [
       "((193.95503, 304.02002, 403.43344),\n",
       " (193.45178, 304.044, 403.40118),\n",
       " (193.02272, 304.06314, 403.41))"
      ]
     },
     "execution_count": 21,
     "metadata": {},
     "output_type": "execute_result"
    }
   ],
   "source": [
    "pA1['pos'][0],pB1['pos'][0],pC1['pos'][0]"
   ]
  },
  {
   "cell_type": "code",
   "execution_count": 59,
   "metadata": {},
   "outputs": [],
   "source": [
    "WL = lc.WorldLine(zA, zB)"
   ]
  },
  {
   "cell_type": "code",
   "execution_count": 60,
   "metadata": {},
   "outputs": [
    {
     "data": {
      "text/plain": [
       "(0.07940147675228881, 0.06303216697298986)"
      ]
     },
     "execution_count": 60,
     "metadata": {},
     "output_type": "execute_result"
    }
   ],
   "source": [
    "WL.zzA, WL.zzB"
   ]
  },
  {
   "cell_type": "code",
   "execution_count": 61,
   "metadata": {},
   "outputs": [
    {
     "data": {
      "text/plain": [
       "(<Quantity 233.62199582 Mpc>, <Quantity 186.18935882 Mpc>)"
      ]
     },
     "execution_count": 61,
     "metadata": {},
     "output_type": "execute_result"
    }
   ],
   "source": [
    "WL.chiA, WL.chiB"
   ]
  },
  {
   "cell_type": "code",
   "execution_count": 62,
   "metadata": {},
   "outputs": [
    {
     "data": {
      "text/plain": [
       "(<Quantity 0.66119962 Gyr>, <Quantity 0.14442377 Gyr>)"
      ]
     },
     "execution_count": 62,
     "metadata": {},
     "output_type": "execute_result"
    }
   ],
   "source": [
    "WL.Tbar, WL.delT"
   ]
  },
  {
   "cell_type": "code",
   "execution_count": 93,
   "metadata": {},
   "outputs": [],
   "source": [
    "WL.set_A(pA1[1])"
   ]
  },
  {
   "cell_type": "code",
   "execution_count": 94,
   "metadata": {},
   "outputs": [],
   "source": [
    "WL.set_B(pB1[1])"
   ]
  },
  {
   "cell_type": "code",
   "execution_count": 95,
   "metadata": {},
   "outputs": [],
   "source": [
    "WL.calc_pos_mean_delta()"
   ]
  },
  {
   "cell_type": "code",
   "execution_count": 96,
   "metadata": {},
   "outputs": [],
   "source": [
    "WL.calc_vel_mean_delta()"
   ]
  },
  {
   "cell_type": "code",
   "execution_count": 97,
   "metadata": {},
   "outputs": [],
   "source": [
    "WL.set_offset(0,0,0)"
   ]
  },
  {
   "cell_type": "code",
   "execution_count": 98,
   "metadata": {},
   "outputs": [
    {
     "data": {
      "text/plain": [
       "1"
      ]
     },
     "execution_count": 98,
     "metadata": {},
     "output_type": "execute_result"
    }
   ],
   "source": [
    "WL.test_lightcone_crossing()"
   ]
  },
  {
   "cell_type": "code",
   "execution_count": 99,
   "metadata": {},
   "outputs": [
    {
     "name": "stdout",
     "output_type": "stream",
     "text": [
      "icount:= 1, tLB:= 0.6612 Gyr, zz:= 0.0712, chiLC:= 209.8, Rad:= 196.4, RadDiff:= 13.37\n",
      "icount:= 2, tLB:= 0.6251 Gyr, zz:= 0.0671, chiLC:= 198.0, Rad:= 196.7, RadDiff:= 1.28\n",
      "icount:= 3, tLB:= 0.6070 Gyr, zz:= 0.0651, chiLC:= 192.1, Rad:= 196.6, RadDiff:= -4.56\n",
      "icount:= 4, tLB:= 0.6161 Gyr, zz:= 0.0661, chiLC:= 195.0, Rad:= 196.7, RadDiff:= -1.66\n",
      "icount:= 5, tLB:= 0.6206 Gyr, zz:= 0.0666, chiLC:= 196.5, Rad:= 196.7, RadDiff:= -0.20\n",
      "icount:= 6, tLB:= 0.6228 Gyr, zz:= 0.0668, chiLC:= 197.2, Rad:= 196.7, RadDiff:= 0.54\n",
      "icount:= 7, tLB:= 0.6217 Gyr, zz:= 0.0667, chiLC:= 196.9, Rad:= 196.7, RadDiff:= 0.17\n",
      "icount:= 8, tLB:= 0.6211 Gyr, zz:= 0.0666, chiLC:= 196.7, Rad:= 196.7, RadDiff:= -0.01\n",
      "icount:= 9, tLB:= 0.6214 Gyr, zz:= 0.0667, chiLC:= 196.8, Rad:= 196.7, RadDiff:= 0.08\n",
      "icount:= 10, tLB:= 0.6213 Gyr, zz:= 0.0667, chiLC:= 196.7, Rad:= 196.7, RadDiff:= 0.03\n",
      "icount:= 11, tLB:= 0.6212 Gyr, zz:= 0.0667, chiLC:= 196.7, Rad:= 196.7, RadDiff:= 0.01\n",
      "icount:= 12, tLB:= 0.6212 Gyr, zz:= 0.0666, chiLC:= 196.7, Rad:= 196.7, RadDiff:= -0.00\n",
      "at: tLB:= 0.6212 Gyr\n"
     ]
    }
   ],
   "source": [
    "tLB = WL.get_lightcone_intersection()"
   ]
  },
  {
   "cell_type": "code",
   "execution_count": 100,
   "metadata": {},
   "outputs": [
    {
     "data": {
      "text/plain": [
       "196.69961547851562"
      ]
     },
     "execution_count": 100,
     "metadata": {},
     "output_type": "execute_result"
    }
   ],
   "source": [
    "WL.rad"
   ]
  },
  {
   "cell_type": "code",
   "execution_count": 101,
   "metadata": {},
   "outputs": [
    {
     "data": {
      "text/plain": [
       "-181.2542266845703"
      ]
     },
     "execution_count": 101,
     "metadata": {},
     "output_type": "execute_result"
    }
   ],
   "source": [
    "WL.Pos['x'].item()"
   ]
  },
  {
   "cell_type": "code",
   "execution_count": 102,
   "metadata": {},
   "outputs": [
    {
     "data": {
      "text/plain": [
       "8.25085735321045"
      ]
     },
     "execution_count": 102,
     "metadata": {},
     "output_type": "execute_result"
    }
   ],
   "source": [
    "WL.dec"
   ]
  },
  {
   "cell_type": "code",
   "execution_count": 73,
   "metadata": {},
   "outputs": [
    {
     "data": {
      "text/plain": [
       "(-181.59157, -70.96433, 28.375883)"
      ]
     },
     "execution_count": 73,
     "metadata": {},
     "output_type": "execute_result"
    }
   ],
   "source": [
    "WL.Pos[0]"
   ]
  },
  {
   "cell_type": "code",
   "execution_count": 74,
   "metadata": {},
   "outputs": [
    {
     "data": {
      "text/plain": [
       "(-624.22144, 22.0243, -118.88899)"
      ]
     },
     "execution_count": 74,
     "metadata": {},
     "output_type": "execute_result"
    }
   ],
   "source": [
    "WL.Vel[0]"
   ]
  },
  {
   "cell_type": "code",
   "execution_count": 88,
   "metadata": {},
   "outputs": [],
   "source": [
    "WL.mode = 'cubic'"
   ]
  },
  {
   "cell_type": "code",
   "execution_count": 103,
   "metadata": {},
   "outputs": [
    {
     "data": {
      "text/plain": [
       "'cubic'"
      ]
     },
     "execution_count": 103,
     "metadata": {},
     "output_type": "execute_result"
    }
   ],
   "source": [
    "WL.mode"
   ]
  },
  {
   "cell_type": "code",
   "execution_count": 75,
   "metadata": {},
   "outputs": [
    {
     "data": {
      "text/plain": [
       "((193.95503, 304.02002, 403.43344), (-2781.9734, 75.44845, -222.12311), 33923867)"
      ]
     },
     "execution_count": 75,
     "metadata": {},
     "output_type": "execute_result"
    }
   ],
   "source": [
    "pA1[0]"
   ]
  },
  {
   "cell_type": "code",
   "execution_count": 96,
   "metadata": {},
   "outputs": [],
   "source": [
    "o = np.array([375])"
   ]
  },
  {
   "cell_type": "code",
   "execution_count": 97,
   "metadata": {},
   "outputs": [
    {
     "data": {
      "text/plain": [
       "array([(375., 375., 375.)],\n",
       "      dtype=[('x', '<f4'), ('y', '<f4'), ('z', '<f4')])"
      ]
     },
     "execution_count": 97,
     "metadata": {},
     "output_type": "execute_result"
    }
   ],
   "source": [
    "o.astype(vect)"
   ]
  },
  {
   "cell_type": "code",
   "execution_count": 100,
   "metadata": {},
   "outputs": [
    {
     "data": {
      "text/plain": [
       "(-181.5482177734375, -181.0449676513672)"
      ]
     },
     "execution_count": 100,
     "metadata": {},
     "output_type": "execute_result"
    }
   ],
   "source": [
    "pB1['pos']['x'][0]- 375, pA1['pos']['x'][0]- 375 "
   ]
  },
  {
   "cell_type": "code",
   "execution_count": null,
   "metadata": {},
   "outputs": [],
   "source": [
    "pB1['pos']['x'][0]- 375"
   ]
  },
  {
   "cell_type": "code",
   "execution_count": 76,
   "metadata": {},
   "outputs": [],
   "source": [
    "T = np.linspace(WL.tLB_A, WL.tLB_B, 100)"
   ]
  },
  {
   "cell_type": "code",
   "execution_count": 104,
   "metadata": {},
   "outputs": [],
   "source": [
    "pos = np.empty(100, dtype = vect)\n",
    "vel = np.empty(100, dtype = vect)\n",
    "v_rms =  np.empty(100, dtype = np.float32)\n",
    "v_rad =  np.empty(100, dtype = np.float32)\n",
    "r = np.empty(100, np.float32)\n",
    "for i,t in enumerate(T):\n",
    "    r[i] = WL.get_world_line(t)\n",
    "    pos[i] = WL.Pos.item()\n",
    "    vel[i] = WL.Vel.item()\n",
    "    v_rms[i] = np.sqrt(vel['x'][i]**2 + vel['y'][i]**2 + vel['z'][i]**2)\n",
    "    v_rad[i] = v_rms[i] *  np.sign(vel['x'][i] + vel['y'][i] + vel['z'][i])"
   ]
  },
  {
   "cell_type": "code",
   "execution_count": 105,
   "metadata": {},
   "outputs": [
    {
     "data": {
      "image/png": "[encoded data removed]",
      "text/plain": [
       "<Figure size 1152x864 with 4 Axes>"
      ]
     },
     "metadata": {
      "needs_background": "light"
     },
     "output_type": "display_data"
    }
   ],
   "source": [
    "fig, ((ax1, ax2), (ax3, ax4))= plt.subplots(2,2,figsize=(16,12))\n",
    "plt.subplots_adjust(wspace = 0.3)\n",
    "ax1.plot(T, pos['x'])\n",
    "ax2.plot(T, pos['y'])\n",
    "ax3.plot(T, pos['z'])\n",
    "ax4.plot(T, r)\n",
    "ax1.axvline(x=WL.tLB_A.value, color = 'grey', linestyle = '--')\n",
    "ax1.axvline(x=WL.tLB_B.value, color = 'grey', linestyle = '--')\n",
    "ax2.axvline(x=WL.tLB_A.value, color = 'grey', linestyle = '--')\n",
    "ax2.axvline(x=WL.tLB_B.value, color = 'grey', linestyle = '--')\n",
    "ax3.axvline(x=WL.tLB_A.value, color = 'grey', linestyle = '--')\n",
    "ax3.axvline(x=WL.tLB_B.value, color = 'grey', linestyle = '--')\n",
    "ax4.axvline(x=WL.tLB_A.value, color = 'grey', linestyle = '--')\n",
    "ax4.axvline(x=WL.tLB_B.value, color = 'grey', linestyle = '--')\n",
    "\n",
    "ax1.axhline(y=pos['x'][0], color = 'grey', linestyle = ':')\n",
    "ax1.axhline(y=pos['x'][-1], color = 'grey', linestyle = ':')\n",
    "ax2.axhline(y=pos['y'][0], color = 'grey', linestyle = ':')\n",
    "ax2.axhline(y=pos['y'][-1], color = 'grey', linestyle = ':')\n",
    "ax3.axhline(y=pos['z'][0], color = 'grey', linestyle = ':')\n",
    "ax3.axhline(y=pos['z'][-1], color = 'grey', linestyle = ':')\n",
    "ax4.axhline(y=r[0], color = 'grey', linestyle = ':')\n",
    "ax4.axhline(y=r[-1], color = 'grey', linestyle = ':')\n",
    "\n",
    "ax1.text(WL.tLB_A.value, pos['x'][0], 'x={0:0.3f}'.format(pos['x'][0]),fontsize=10)\n",
    "ax1.text(WL.tLB_B.value, pos['x'][-1],'x={0:0.3f}'.format(pos['x'][-1]),fontsize=10)\n",
    "ax2.text(WL.tLB_A.value, pos['y'][0], 'y={0:0.3f}'.format(pos['y'][0]),fontsize=10)\n",
    "ax2.text(WL.tLB_B.value, pos['y'][-1],'y={0:0.3f}'.format(pos['y'][-1]),fontsize=10)\n",
    "ax3.text(WL.tLB_A.value, pos['z'][0], 'z={0:0.3f}'.format(pos['z'][0]),fontsize=10)\n",
    "ax3.text(WL.tLB_B.value, pos['z'][-1],'z={0:0.3f}'.format(pos['z'][-1]),fontsize=10)\n",
    "ax4.text(WL.tLB_A.value, r[0], 'r={0:0.2f}'.format(r[0]),fontsize=10)\n",
    "ax4.text(WL.tLB_B.value, r[-1],'r={0:0.2f}'.format(r[-1]),fontsize=10)\n",
    "\n",
    "ax1.set_xlabel('Lookback time (Gyr)')\n",
    "ax2.set_xlabel('Lookback time (Gyr)')\n",
    "ax3.set_xlabel('Lookback time (Gyr)')\n",
    "ax4.set_xlabel('Lookback time (Gyr)')\n",
    "ax1.set_ylabel('$p_x (Mpc/h)$')\n",
    "ax2.set_ylabel('$p_y (Mpc/h)$')\n",
    "ax3.set_ylabel('$p_z (Mpc/h)$')\n",
    "ax4.set_ylabel('$r (Mpc/h)$')\n",
    "fig.suptitle('Interpolated Lightcone Worldline Position Plots')\n",
    "#plt.legend()\n",
    "plt.savefig('WL_pos_plot.png')\n",
    "plt.show()"
   ]
  },
  {
   "cell_type": "code",
   "execution_count": 106,
   "metadata": {},
   "outputs": [
    {
     "data": {
      "image/png": "[encoded data removed]",
      "text/plain": [
       "<Figure size 1152x864 with 4 Axes>"
      ]
     },
     "metadata": {
      "needs_background": "light"
     },
     "output_type": "display_data"
    }
   ],
   "source": [
    "fig, ((ax1, ax2), (ax3, ax4))= plt.subplots(2,2,figsize=(16,12))\n",
    "ax1.plot(T, vel['x'])\n",
    "ax2.plot(T, vel['y'])\n",
    "ax3.plot(T, vel['z'])\n",
    "ax4.plot(T, v_rms)\n",
    "ax1.axvline(x=WL.tLB_A.value, color = 'grey', linestyle = '--')\n",
    "ax1.axvline(x=WL.tLB_B.value, color = 'grey', linestyle = '--')\n",
    "ax2.axvline(x=WL.tLB_A.value, color = 'grey', linestyle = '--')\n",
    "ax2.axvline(x=WL.tLB_B.value, color = 'grey', linestyle = '--')\n",
    "ax3.axvline(x=WL.tLB_A.value, color = 'grey', linestyle = '--')\n",
    "ax3.axvline(x=WL.tLB_B.value, color = 'grey', linestyle = '--')\n",
    "ax4.axvline(x=WL.tLB_A.value, color = 'grey', linestyle = '--')\n",
    "ax4.axvline(x=WL.tLB_B.value, color = 'grey', linestyle = '--')\n",
    "\n",
    "ax1.axhline(y=vel['x'][0], color = 'grey', linestyle = ':')\n",
    "ax1.axhline(y=vel['x'][-1], color = 'grey', linestyle = ':')\n",
    "ax2.axhline(y=vel['y'][0], color = 'grey', linestyle = ':')\n",
    "ax2.axhline(y=vel['y'][-1], color = 'grey', linestyle = ':')\n",
    "ax3.axhline(y=vel['z'][0], color = 'grey', linestyle = ':')\n",
    "ax3.axhline(y=vel['z'][-1], color = 'grey', linestyle = ':')\n",
    "ax4.axhline(y=v_rms[0], color = 'grey', linestyle = ':')\n",
    "ax4.axhline(y=v_rms[-1], color = 'grey', linestyle = ':')\n",
    "\n",
    "ax1.text(WL.tLB_A.value, vel['x'][0], 'vx={0:0.2f}'.format(vel['x'][0]),fontsize=10)\n",
    "ax1.text(WL.tLB_B.value, vel['x'][-1],'vx={0:0.2f}'.format(vel['x'][-1]),fontsize=10)\n",
    "ax2.text(WL.tLB_A.value,vel['y'][0], 'vy={0:0.2f}'.format(vel['y'][0]),fontsize=10)\n",
    "ax2.text(WL.tLB_B.value, vel['y'][-1],'vy={0:0.2f}'.format(vel['y'][-1]),fontsize=10)\n",
    "ax3.text(WL.tLB_A.value, vel['z'][0], 'vz={0:0.2f}'.format(vel['z'][0]),fontsize=10)\n",
    "ax3.text(WL.tLB_B.value, vel['z'][-1],'vz={0:0.2f}'.format(vel['z'][-1]),fontsize=10)\n",
    "ax4.text(WL.tLB_A.value, v_rms[0], 'v_rms={0:0.2f}'.format(v_rms[0]),fontsize=10)\n",
    "ax4.text(WL.tLB_B.value, v_rms[-1],'v_rms={0:0.2f}'.format(v_rms[-1]),fontsize=10)\n",
    "\n",
    "ax1.set_xlabel('Lookback time (Gyr)')\n",
    "ax2.set_xlabel('Lookback time (Gyr)')\n",
    "ax3.set_xlabel('Lookback time (Gyr)')\n",
    "ax4.set_xlabel('Lookback time (Gyr)')\n",
    "ax1.set_ylabel('$v_x (km/s)$')\n",
    "ax2.set_ylabel('$v_y (km/s)$')\n",
    "ax3.set_ylabel('$v_z (km/s)$')\n",
    "ax4.set_ylabel('$\\|v\\| (km/s)$')\n",
    "fig.suptitle('Interpolated Lightcone Worldline Velocity Plots')\n",
    "plt.savefig('WL_vel_plot.png')\n",
    "plt.show()"
   ]
  },
  {
   "cell_type": "code",
   "execution_count": 36,
   "metadata": {},
   "outputs": [],
   "source": [
    "delT = WL.tLB_A - WL.tLB_B"
   ]
  },
  {
   "cell_type": "code",
   "execution_count": 72,
   "metadata": {},
   "outputs": [],
   "source": [
    "dt = delT.to(u.s)"
   ]
  },
  {
   "cell_type": "code",
   "execution_count": 58,
   "metadata": {},
   "outputs": [],
   "source": [
    "dp = np.sqrt(dx*dx+dy*dy+dz*dz)*u.Mpc"
   ]
  },
  {
   "cell_type": "code",
   "execution_count": 68,
   "metadata": {},
   "outputs": [],
   "source": [
    "dp = dp.to(u.km)"
   ]
  },
  {
   "cell_type": "code",
   "execution_count": 69,
   "metadata": {},
   "outputs": [
    {
     "data": {
      "text/latex": [
       "$[0,~2.0316204 \\times 10^{18},~1.9328621 \\times 10^{18},~1.8696623 \\times 10^{18},~1.9014665 \\times 10^{18},~1.8439281 \\times 10^{18},~1.7219812 \\times 10^{18},~1.6283261 \\times 10^{18},~1.488447 \\times 10^{18},~1.3718572 \\times 10^{18}] \\; \\mathrm{km}$"
      ],
      "text/plain": [
       "<Quantity [0.0000000e+00, 2.0316204e+18, 1.9328621e+18, 1.8696623e+18,\n",
       "           1.9014665e+18, 1.8439281e+18, 1.7219812e+18, 1.6283261e+18,\n",
       "           1.4884470e+18, 1.3718572e+18] km>"
      ]
     },
     "execution_count": 69,
     "metadata": {},
     "output_type": "execute_result"
    }
   ],
   "source": [
    "dp[:10]"
   ]
  },
  {
   "cell_type": "code",
   "execution_count": 51,
   "metadata": {},
   "outputs": [],
   "source": [
    "H0 = 100 * u.km / u.s /u.Mpc"
   ]
  },
  {
   "cell_type": "code",
   "execution_count": 52,
   "metadata": {},
   "outputs": [
    {
     "data": {
      "text/latex": [
       "$100 \\; \\mathrm{\\frac{km}{Mpc\\,s}}$"
      ],
      "text/plain": [
       "<Quantity 100. km / (Mpc s)>"
      ]
     },
     "execution_count": 52,
     "metadata": {},
     "output_type": "execute_result"
    }
   ],
   "source": [
    "H0"
   ]
  },
  {
   "cell_type": "code",
   "execution_count": 47,
   "metadata": {},
   "outputs": [],
   "source": [
    "v  = np.sqrt((pA['vel']['x']**2 + pA['vel']['y']**2 + pA['vel']['z']**2)*(1+zA))"
   ]
  },
  {
   "cell_type": "code",
   "execution_count": 74,
   "metadata": {},
   "outputs": [],
   "source": [
    "v_eff = dp/dt"
   ]
  },
  {
   "cell_type": "code",
   "execution_count": 75,
   "metadata": {},
   "outputs": [
    {
     "data": {
      "text/latex": [
       "$[0,~445.75882,~424.09021,~410.22351,~417.20169,~404.57718,~377.82071,~357.27182,~326.58087,~300.99985] \\; \\mathrm{\\frac{km}{s}}$"
      ],
      "text/plain": [
       "<Quantity [  0.     , 445.75882, 424.0902 , 410.2235 , 417.2017 ,\n",
       "           404.57718, 377.8207 , 357.27182, 326.58087, 300.99985] km / s>"
      ]
     },
     "execution_count": 75,
     "metadata": {},
     "output_type": "execute_result"
    }
   ],
   "source": [
    "v_eff[:10]"
   ]
  },
  {
   "cell_type": "code",
   "execution_count": 81,
   "metadata": {},
   "outputs": [
    {
     "data": {
      "image/png": "[encoded data removed]",
      "text/plain": [
       "<Figure size 576x576 with 1 Axes>"
      ]
     },
     "metadata": {
      "needs_background": "light"
     },
     "output_type": "display_data"
    }
   ],
   "source": [
    "fig = plt.subplots(figsize = (8,8))\n",
    "plt.hist(v , density=True, log=False, bins=1000, histtype='step', linewidth = 2, range = (0,3000)) \n",
    "plt.hist(v_eff , density=True, log=False, bins=1000, histtype='step', linewidth = 2, range = (0,3000)) \n",
    "plt.title('Velocity Dispersion')\n",
    "plt.xlabel('v (km/s)')\n",
    "plt.show()"
   ]
  },
  {
   "cell_type": "code",
   "execution_count": 59,
   "metadata": {},
   "outputs": [
    {
     "data": {
      "text/plain": [
       "134217729"
      ]
     },
     "execution_count": 59,
     "metadata": {},
     "output_type": "execute_result"
    }
   ],
   "source": [
    "dp.size"
   ]
  },
  {
   "cell_type": "code",
   "execution_count": 60,
   "metadata": {},
   "outputs": [],
   "source": [
    "f = tuple([(dx<BoxSize/2) & (dy<BoxSize/2) & (dz<BoxSize/2)])"
   ]
  },
  {
   "cell_type": "code",
   "execution_count": 43,
   "metadata": {},
   "outputs": [],
   "source": [
    "f = tuple([(dx<BoxSize/2)])"
   ]
  },
  {
   "cell_type": "code",
   "execution_count": 69,
   "metadata": {},
   "outputs": [],
   "source": [
    "dp2=dp[dp<BoxSize/2]"
   ]
  },
  {
   "cell_type": "code",
   "execution_count": 76,
   "metadata": {},
   "outputs": [
    {
     "data": {
      "image/png": "[encoded data removed]",
      "text/plain": [
       "<Figure size 576x576 with 1 Axes>"
      ]
     },
     "metadata": {
      "needs_background": "light"
     },
     "output_type": "display_data"
    }
   ],
   "source": [
    "fi1g = plt.subplots(figsize = (8,8))\n",
    "plt.hist(dp2 , density=True, log=False, bins=100, range=(0,0.5)) \n",
    "plt.title('$\\Delta \\|x\\|$')\n",
    "plt.xlabel('$\\Delta \\|x\\| (Mpc/h)$')\n",
    "plt.show()"
   ]
  },
  {
   "cell_type": "code",
   "execution_count": 94,
   "metadata": {},
   "outputs": [
    {
     "name": "stdout",
     "output_type": "stream",
     "text": [
      "Done snapshot 88\n",
      "Done snapshot 89\n",
      "Done snapshot 90\n",
      "Done snapshot 91\n",
      "Done snapshot 92\n",
      "Done snapshot 93\n",
      "Done snapshot 94\n",
      "Done snapshot 95\n",
      "Done snapshot 96\n",
      "Done snapshot 97\n",
      "Done snapshot 98\n",
      "Done snapshot 99\n",
      "Done snapshot 100\n",
      "Done snapshot 101\n",
      "Done snapshot 102\n",
      "Done snapshot 103\n",
      "Done snapshot 104\n",
      "Done snapshot 105\n",
      "Done snapshot 106\n",
      "Done snapshot 107\n",
      "Done snapshot 108\n",
      "Done snapshot 109\n",
      "Done snapshot 110\n",
      "Done snapshot 111\n",
      "Snapshot file 112 does not exist\n",
      "Done snapshot 113\n",
      "Done snapshot 114\n",
      "Done snapshot 115\n",
      "Done snapshot 116\n",
      "Done snapshot 117\n",
      "Snapshot file 118 does not exist\n",
      "Done snapshot 119\n",
      "Done snapshot 120\n",
      "Done snapshot 121\n",
      "Snapshot file 122 does not exist\n",
      "Done snapshot 123\n",
      "Done snapshot 124\n",
      "Snapshot file 125 does not exist\n",
      "Done snapshot 126\n"
     ]
    }
   ],
   "source": [
    "zz = np.empty(0,np.float32)\n",
    "v_avg = np.empty(0,np.float32)\n",
    "v_max = np.empty(0,np.float32)\n",
    "for snap in range(88,127):\n",
    "    fname = snap_path + 'ordered_snapshot.snap_{0:03d}.hdf5'.format(snap)\n",
    "    # Check that file actually exists for this snapshot\n",
    "    if os.path.exists(fname):\n",
    "        with h5py.File(fname,'r') as f:\n",
    "            h = f['Header']\n",
    "            z = h.attrs['Redshift']\n",
    "            zz=np.append(zz, z)\n",
    "            a = 1/(1+z)\n",
    "            p =  f['PartType1']\n",
    "            v  = np.sqrt((p['vel']['x']**2 + p['vel']['y']**2 + p['vel']['z']**2)/a)\n",
    "            v_max=np.append(v_max, np.amax(v))\n",
    "            v_avg=np.append(v_avg, np.mean(v))\n",
    "        print('Done snapshot {0:d}'.format(snap))\n",
    "    else:\n",
    "        print('Snapshot file {0:d} does not exist'.format(snap))"
   ]
  },
  {
   "cell_type": "code",
   "execution_count": 97,
   "metadata": {},
   "outputs": [
    {
     "data": {
      "text/plain": [
       "array([687.8734 , 686.5518 , 683.67365, 682.0966 , 680.43494, 676.8422 ,\n",
       "       674.91486, 672.9008 , 670.8047 , 668.6275 , 666.35223, 661.5158 ,\n",
       "       658.9596 , 656.3317 , 653.6411 , 650.8611 , 647.97766, 644.9942 ,\n",
       "       641.9216 , 638.7592 , 635.5153 , 632.18567, 628.7474 , 625.19434,\n",
       "       621.5297 , 617.7696 , 613.92664, 610.0215 , 606.0473 , 602.0024 ,\n",
       "       597.88873, 593.7114 , 589.487  , 585.1984 , 580.8371 ],\n",
       "      dtype=float32)"
      ]
     },
     "execution_count": 97,
     "metadata": {},
     "output_type": "execute_result"
    }
   ],
   "source": [
    "v_avg"
   ]
  },
  {
   "cell_type": "code",
   "execution_count": 95,
   "metadata": {},
   "outputs": [
    {
     "data": {
      "text/plain": [
       "array([5925.716 , 5681.769 , 5837.801 , 6218.5244, 6118.392 , 6324.3857,\n",
       "       6141.365 , 5984.8755, 5704.4946, 5804.118 , 5995.9595, 5843.292 ,\n",
       "       5864.2607, 5530.1855, 5314.2183, 5626.409 , 5645.7812, 5924.0527,\n",
       "       7027.8096, 6762.0986, 6282.897 , 5882.4526, 5849.606 , 5644.5674,\n",
       "       5758.925 , 5469.928 , 5464.0415, 5717.2256, 5420.1885, 5537.8047,\n",
       "       5262.063 , 5271.9326, 5756.2876, 5767.1787, 5947.253 ],\n",
       "      dtype=float32)"
      ]
     },
     "execution_count": 95,
     "metadata": {},
     "output_type": "execute_result"
    }
   ],
   "source": [
    "v_max[::]"
   ]
  },
  {
   "cell_type": "code",
   "execution_count": 96,
   "metadata": {},
   "outputs": [
    {
     "data": {
      "text/plain": [
       "array([7.60168556e-01, 7.33475296e-01, 6.81297061e-01, 6.55799900e-01,\n",
       "       6.30689409e-01, 5.81605066e-01, 5.57619752e-01, 5.33998180e-01,\n",
       "       5.10734832e-01, 4.87824278e-01, 4.65261166e-01, 4.21156273e-01,\n",
       "       3.99604193e-01, 3.78378953e-01, 3.57475598e-01, 3.36889247e-01,\n",
       "       3.16615090e-01, 2.96648395e-01, 2.76984498e-01, 2.57618808e-01,\n",
       "       2.38546802e-01, 2.19764025e-01, 2.01266093e-01, 1.83048686e-01,\n",
       "       1.65107548e-01, 1.47438491e-01, 1.30037388e-01, 1.12900176e-01,\n",
       "       9.60228526e-02, 7.94014768e-02, 6.30321670e-02, 4.69111006e-02,\n",
       "       3.10345130e-02, 1.53986966e-02, 2.22044605e-16])"
      ]
     },
     "execution_count": 96,
     "metadata": {},
     "output_type": "execute_result"
    }
   ],
   "source": [
    "zz"
   ]
  },
  {
   "cell_type": "code",
   "execution_count": 126,
   "metadata": {},
   "outputs": [
    {
     "data": {
      "image/png": "[encoded data removed]",
      "text/plain": [
       "<Figure size 432x288 with 1 Axes>"
      ]
     },
     "metadata": {
      "needs_background": "light"
     },
     "output_type": "display_data"
    }
   ],
   "source": [
    "plt.plot(zz, v_avg*(1+zz))\n",
    "#plt.plot(zz, v_max)\n",
    "plt.show()"
   ]
  },
  {
   "cell_type": "code",
   "execution_count": 100,
   "metadata": {},
   "outputs": [
    {
     "data": {
      "text/latex": [
       "$[0.43750446,~0.21416201] \\; \\mathrm{Gyr}$"
      ],
      "text/plain": [
       "<Quantity [0.43750446, 0.21416201] Gyr>"
      ]
     },
     "execution_count": 100,
     "metadata": {},
     "output_type": "execute_result"
    }
   ],
   "source": [
    "cosmo.lookback_time([0.031, 0.015])"
   ]
  },
  {
   "cell_type": "code",
   "execution_count": 32,
   "metadata": {},
   "outputs": [],
   "source": [
    "v = 3000* u.km/u.s"
   ]
  },
  {
   "cell_type": "code",
   "execution_count": 33,
   "metadata": {},
   "outputs": [
    {
     "data": {
      "text/latex": [
       "$3000 \\; \\mathrm{\\frac{km}{s}}$"
      ],
      "text/plain": [
       "<Quantity 3000. km / s>"
      ]
     },
     "execution_count": 33,
     "metadata": {},
     "output_type": "execute_result"
    }
   ],
   "source": [
    "v"
   ]
  },
  {
   "cell_type": "code",
   "execution_count": 39,
   "metadata": {},
   "outputs": [],
   "source": [
    "t = 0.14 * u.Gyr"
   ]
  },
  {
   "cell_type": "code",
   "execution_count": 40,
   "metadata": {},
   "outputs": [
    {
     "data": {
      "text/latex": [
       "$0.14 \\; \\mathrm{Gyr}$"
      ],
      "text/plain": [
       "<Quantity 0.14 Gyr>"
      ]
     },
     "execution_count": 40,
     "metadata": {},
     "output_type": "execute_result"
    }
   ],
   "source": [
    "t"
   ]
  },
  {
   "cell_type": "code",
   "execution_count": 41,
   "metadata": {},
   "outputs": [],
   "source": [
    "d = v*t"
   ]
  },
  {
   "cell_type": "code",
   "execution_count": 42,
   "metadata": {},
   "outputs": [
    {
     "data": {
      "text/latex": [
       "$420 \\; \\mathrm{\\frac{Gyr\\,km}{s}}$"
      ],
      "text/plain": [
       "<Quantity 420. Gyr km / s>"
      ]
     },
     "execution_count": 42,
     "metadata": {},
     "output_type": "execute_result"
    }
   ],
   "source": [
    "d"
   ]
  },
  {
   "cell_type": "code",
   "execution_count": 43,
   "metadata": {},
   "outputs": [
    {
     "data": {
      "text/latex": [
       "$0.42953911 \\; \\mathrm{Mpc}$"
      ],
      "text/plain": [
       "<Quantity 0.42953911 Mpc>"
      ]
     },
     "execution_count": 43,
     "metadata": {},
     "output_type": "execute_result"
    }
   ],
   "source": [
    "d.to(u.Mpc)"
   ]
  },
  {
   "cell_type": "code",
   "execution_count": 44,
   "metadata": {},
   "outputs": [],
   "source": [
    "v = 500* u.km/u.s"
   ]
  },
  {
   "cell_type": "code",
   "execution_count": 70,
   "metadata": {},
   "outputs": [
    {
     "data": {
      "text/plain": [
       "230.0"
      ]
     },
     "execution_count": 70,
     "metadata": {},
     "output_type": "execute_result"
    }
   ],
   "source": [
    "828000 /3600"
   ]
  },
  {
   "cell_type": "code",
   "execution_count": 2,
   "metadata": {},
   "outputs": [
    {
     "data": {
      "text/plain": [
       "6.4"
      ]
     },
     "execution_count": 2,
     "metadata": {},
     "output_type": "execute_result"
    }
   ],
   "source": [
    "16*24/60"
   ]
  },
  {
   "cell_type": "code",
   "execution_count": null,
   "metadata": {},
   "outputs": [],
   "source": []
  }
 ],
 "metadata": {
  "kernelspec": {
   "display_name": "Python 3 Cosma",
   "language": "python",
   "name": "python3_env"
  },
  "language_info": {
   "codemirror_mode": {
    "name": "ipython",
    "version": 3
   },
   "file_extension": ".py",
   "mimetype": "text/x-python",
   "name": "python",
   "nbconvert_exporter": "python",
   "pygments_lexer": "ipython3",
   "version": "3.6.9"
  }
 },
 "nbformat": 4,
 "nbformat_minor": 2
}
