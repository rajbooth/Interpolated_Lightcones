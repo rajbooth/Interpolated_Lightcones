{
 "cells": [
  {
   "cell_type": "code",
   "execution_count": 26,
   "metadata": {},
   "outputs": [],
   "source": [
    "import numpy as np\n",
    "import h5py\n",
    "import sys,os\n",
    "import lightcone\n",
    "from astropy.cosmology import Planck15, FlatLambdaCDM, z_at_value"
   ]
  },
  {
   "cell_type": "code",
   "execution_count": 2,
   "metadata": {},
   "outputs": [],
   "source": [
    "SnapshotDataDir = '/cosma6/data/dp004/dc-boot5/Ordered_Snapshots/Npart_512_Box_750-Fiducial/'\n",
    "isnap = 127\n",
    "NumPartTypeTOT = np.zeros(6, np.ulonglong)"
   ]
  },
  {
   "cell_type": "code",
   "execution_count": 55,
   "metadata": {},
   "outputs": [
    {
     "name": "stdout",
     "output_type": "stream",
     "text": [
      "134217728\n"
     ]
    }
   ],
   "source": [
    "# read snapshot header - get_total_number_of_particles()\n",
    "input_fname = '{0:s}ordered_snapshot.snap_{1:03d}.hdf5'.format(SnapshotDataDir, isnap)\n",
    "with h5py.File(input_fname,'r') as fi:\n",
    "    h = fi['Header']\n",
    "    NumPartTypeTOT = h.attrs['NumPart_Total'][1]\n",
    "    NumPartTOT = h.attrs['NumPart_Total'][1]\n",
    "print(NumPartTOT)"
   ]
  },
  {
   "cell_type": "code",
   "execution_count": 19,
   "metadata": {},
   "outputs": [],
   "source": [
    "#define particle datatype\n",
    "vect = np.dtype([('x', np.float32),('y', np.float32),('z', np.float32)])\n",
    "part = np.dtype([('pos', vect),('vel', vect),('ID', np.ulonglong)])"
   ]
  },
  {
   "cell_type": "code",
   "execution_count": null,
   "metadata": {},
   "outputs": [],
   "source": [
    "def spline_geodesic_distance():\n",
    "    nchi = NCHISP;\n",
    "\n",
    "    zzMIN_SP = 1.0e-5;\n",
    "    zzMAX_SP = 10.0;\n",
    "\n",
    "    aaMIN_SP = 1.0/(1.0+zzMAX_SP);\n",
    "    aaMAX_SP = 1.0/(1.0+zzMIN_SP); \n",
    "    \n",
    "    delaalog = log(aaMAX_SP/aaMIN_SP)/(nchi*1.0-1.0);\n",
    "    \n",
    "    ichi = range(nchi)\n",
    "    xchi_aa_SP[ichi] = log(aaMIN_SP)+delaalog*ichi;\n",
    "    aa = exp(xchi_aa_SP[ichi]);\n",
    "    \n",
    "    a0 = 1.0;\n",
    "    a1 = aa;\n",
    "    GEOD(a0,a1,&chi_com,&chi_prop);\n",
    "      \n",
    "    ychi_aa_SP[ichi] = log(chi_com);\n",
    "    xchi_aa_SP[ichi] = aa;\n",
    "    ychi_aa_SP[ichi] = chi_com;\n",
    "    xaa_chi_SP[nchi-ichi-1] = chi_com;\n",
    "    yaa_chi_SP[nchi-ichi-1] = aa;\n",
    "    \n",
    "    chiMIN_SP = ychi_aa_SP[nchi-1];\n",
    "    chiMAX_SP = ychi_aa_SP[0];\n",
    "    \n",
    "    # create spline for the function: chi(aa)\n",
    "    chi_aa_acc = gsl_interp_accel_alloc();\n",
    "    chi_aa_spline = gsl_spline_alloc(gsl_interp_cspline, nchi);\n",
    "    gsl_spline_init(chi_aa_spline, xchi_aa_SP, ychi_aa_SP, nchi); "
   ]
  },
  {
   "cell_type": "code",
   "execution_count": null,
   "metadata": {},
   "outputs": [],
   "source": [
    "#SPLINE THE GEODESIC DISTANCE REDSHIFT RELATION\n",
    "spline_geodesic_distance()"
   ]
  },
  {
   "cell_type": "code",
   "execution_count": null,
   "metadata": {},
   "outputs": [],
   "source": [
    "nchi = NCHISP;\n",
    "\n",
    "zzMIN_SP = 1.0e-5;\n",
    "zzMAX_SP = 10.0;\n",
    "\n",
    "aaMIN_SP = 1.0/(1.0+zzMAX_SP);\n",
    "aaMAX_SP = 1.0/(1.0+zzMIN_SP); \n",
    "\n",
    "delaalog = log(aaMAX_SP/aaMIN_SP)/(nchi*1.0-1.0);\n",
    "  \n",
    "for (ichi=0;ichi<nchi;ichi++):\n",
    "    xchi_aa_SP[ichi] = log(aaMIN_SP)+delaalog*ichi;\n",
    "    aa = exp(xchi_aa_SP[ichi]);\n",
    "    \n",
    "    a0 = 1.0;\n",
    "    a1 = aa;\n",
    "    GEOD(a0,a1,&chi_com,&chi_prop);\n",
    "      \n",
    "    ychi_aa_SP[ichi] = log(chi_com);\n",
    "      \n",
    "    xchi_aa_SP[ichi] = aa;\n",
    "    ychi_aa_SP[ichi] = chi_com;\n",
    "\n",
    "    xaa_chi_SP[nchi-ichi-1] = chi_com;\n",
    "    yaa_chi_SP[nchi-ichi-1] = aa;\n",
    "      \n",
    "chiMIN_SP = ychi_aa_SP[nchi-1];\n",
    "chiMAX_SP = ychi_aa_SP[0];\n",
    "   \n",
    "# create spline for the function: chi(aa)\n",
    "chi_aa_acc = gsl_interp_accel_alloc();\n",
    "chi_aa_spline = gsl_spline_alloc(gsl_interp_cspline, nchi);\n",
    "gsl_spline_init(chi_aa_spline, xchi_aa_SP, ychi_aa_SP, nchi); \n",
    "\n",
    "# create a spline for the inverese function: aa(chi)\n",
    "aa_chi_acc = gsl_interp_accel_alloc();\n",
    "aa_chi_spline = gsl_spline_alloc(gsl_interp_cspline, nchi);\n",
    "gsl_spline_init(aa_chi_spline, xaa_chi_SP, yaa_chi_SP, nchi); \n",
    "    \n",
    "print(\"splined the distance redshift relations.\")\n",
    "    "
   ]
  },
  {
   "cell_type": "code",
   "execution_count": null,
   "metadata": {},
   "outputs": [],
   "source": [
    "#SPLINE THE LOOKBACK TIME REDSHIFT RELATION\n",
    "spline_lookback_time()"
   ]
  },
  {
   "cell_type": "code",
   "execution_count": 4,
   "metadata": {},
   "outputs": [],
   "source": [
    "# initialise lightcone class\n",
    "LC = lightcone.LightCone()"
   ]
  },
  {
   "cell_type": "code",
   "execution_count": 5,
   "metadata": {},
   "outputs": [
    {
     "name": "stdout",
     "output_type": "stream",
     "text": [
      "Max comoving distance in lightcone:= 292.762690\n",
      "Min comoving distance in lightcone:= 0.002998\n",
      "BoxSize:= 750.000000\n",
      "number of periodic replications required:= 0\n"
     ]
    }
   ],
   "source": [
    "# Determine how many periodic replications are required to fit the lightcone.\n",
    "lightcone.get_periodic_replications(LC)"
   ]
  },
  {
   "cell_type": "code",
   "execution_count": 14,
   "metadata": {},
   "outputs": [
    {
     "name": "stdout",
     "output_type": "stream",
     "text": [
      "Expected number of particles in the LightCone:= 33439663\n",
      "In units of the total number of particles:= 0.249145\n"
     ]
    }
   ],
   "source": [
    "# estimate number of particles in the lightcone\n",
    "\n",
    "chimax = LC.chimax;\n",
    "chimin = LC.chimin;\n",
    "LCVol = 4.0/3.0 * np.pi * LC.chimax**3 - LC.chimin**3\n",
    "Vol = LC.BoxSize**3\n",
    "nbarDM = NumPartTypeTOT/Vol;\n",
    "NumLCPartTotEst = int(round(LCVol*nbarDM))\n",
    "LCPartFrac = 1.0*NumLCPartTotEst/(1.0*NumPartTOT);\n",
    "\n",
    "print(\"Expected number of particles in the LightCone:= {0:0d}\".format(NumLCPartTotEst))\n",
    "print(\"In units of the total number of particles:= {0:0f}\".format(LCPartFrac))\n"
   ]
  },
  {
   "cell_type": "code",
   "execution_count": 63,
   "metadata": {},
   "outputs": [],
   "source": [
    "# set the snapshot range over which to compute the lightcone\n",
    "  \n",
    "isnap_start = 116;\n",
    "isnap_end   = 118;"
   ]
  },
  {
   "cell_type": "code",
   "execution_count": 99,
   "metadata": {},
   "outputs": [
    {
     "ename": "TypeError",
     "evalue": "get_world_lines() missing 1 required positional argument: 'zB'",
     "output_type": "error",
     "traceback": [
      "\u001b[0;31m---------------------------------------------------------------------------\u001b[0m",
      "\u001b[0;31mTypeError\u001b[0m                                 Traceback (most recent call last)",
      "\u001b[0;32m<ipython-input-99-875df8cafc9d>\u001b[0m in \u001b[0;36m<module>\u001b[0;34m\u001b[0m\n\u001b[1;32m      1\u001b[0m \u001b[0;31m# construct worldlines and then lightcone\u001b[0m\u001b[0;34m\u001b[0m\u001b[0;34m\u001b[0m\u001b[0;34m\u001b[0m\u001b[0m\n\u001b[0;32m----> 2\u001b[0;31m \u001b[0mconstruct_world_lines\u001b[0m\u001b[0;34m(\u001b[0m\u001b[0misnap_start\u001b[0m\u001b[0;34m,\u001b[0m\u001b[0misnap_end\u001b[0m\u001b[0;34m)\u001b[0m\u001b[0;34m\u001b[0m\u001b[0;34m\u001b[0m\u001b[0m\n\u001b[0m",
      "\u001b[0;32m<ipython-input-86-a73dbd5b5800>\u001b[0m in \u001b[0;36mconstruct_world_lines\u001b[0;34m(isnap_start, isnap_end)\u001b[0m\n\u001b[1;32m     44\u001b[0m \u001b[0;34m\u001b[0m\u001b[0m\n\u001b[1;32m     45\u001b[0m         \u001b[0;32mif\u001b[0m \u001b[0;34m(\u001b[0m\u001b[0misnap\u001b[0m\u001b[0;34m>\u001b[0m\u001b[0misnap_start\u001b[0m\u001b[0;34m)\u001b[0m\u001b[0;34m:\u001b[0m\u001b[0;34m\u001b[0m\u001b[0;34m\u001b[0m\u001b[0m\n\u001b[0;32m---> 46\u001b[0;31m             \u001b[0miworldline\u001b[0m \u001b[0;34m=\u001b[0m \u001b[0mget_world_lines\u001b[0m\u001b[0;34m(\u001b[0m\u001b[0mNparts\u001b[0m\u001b[0;34m,\u001b[0m \u001b[0mheaderOrderedA\u001b[0m\u001b[0;34m.\u001b[0m\u001b[0mredshift\u001b[0m\u001b[0;34m,\u001b[0m \u001b[0mheaderOrderedB\u001b[0m\u001b[0;34m.\u001b[0m\u001b[0mredshift\u001b[0m\u001b[0;34m)\u001b[0m\u001b[0;34m\u001b[0m\u001b[0;34m\u001b[0m\u001b[0m\n\u001b[0m\u001b[1;32m     47\u001b[0m             \u001b[0;32mif\u001b[0m\u001b[0;34m(\u001b[0m\u001b[0miworldline\u001b[0m\u001b[0;34m>\u001b[0m\u001b[0;36m0\u001b[0m\u001b[0;34m)\u001b[0m\u001b[0;34m:\u001b[0m\u001b[0;34m\u001b[0m\u001b[0;34m\u001b[0m\u001b[0m\n\u001b[1;32m     48\u001b[0m                 \u001b[0mprint\u001b[0m\u001b[0;34m(\u001b[0m\u001b[0;34m\"Found {0:0d} world lines between snapshots {1:03d} and {2:03d}\"\u001b[0m\u001b[0;34m,\u001b[0m \u001b[0mNumLCPart\u001b[0m\u001b[0;34m,\u001b[0m \u001b[0misnap\u001b[0m\u001b[0;34m-\u001b[0m\u001b[0;36m1\u001b[0m\u001b[0;34m,\u001b[0m\u001b[0misnap\u001b[0m\u001b[0;34m)\u001b[0m\u001b[0;34m;\u001b[0m\u001b[0;34m\u001b[0m\u001b[0;34m\u001b[0m\u001b[0m\n",
      "\u001b[0;31mTypeError\u001b[0m: get_world_lines() missing 1 required positional argument: 'zB'"
     ]
    }
   ],
   "source": [
    "# construct worldlines and then lightcone\n",
    "construct_world_lines(isnap_start,isnap_end)"
   ]
  },
  {
   "cell_type": "code",
   "execution_count": 86,
   "metadata": {},
   "outputs": [],
   "source": [
    "def construct_world_lines(isnap_start, isnap_end):\n",
    "\n",
    "    # read snapshots A and B.\n",
    "    snapdir ='/cosma6/data/dp004/dc-boot5/Ordered_Snapshots/Npart_512_Box_750-Fiducial/'\n",
    "    \n",
    "    NumLCPart = 0;\n",
    "    NumLCPartTOT = 0;\n",
    "    iLCfile = 0;\n",
    "\n",
    "    # Initialise particle buffers\n",
    "    Nparts = int(NumPartTOT + 1)\n",
    "    PartBuff = np.empty((2,Nparts), dtype = part)\n",
    "    iobj = 0;\n",
    "    \n",
    "    isnap=127\n",
    "    input_fname = snapdir + 'ordered_snapshot.snap_{0:03d}.hdf5'.format(isnap)\n",
    "    # instantiate header structures\n",
    "    headerOrderedB = snapshot_header(input_fname)\n",
    "    \n",
    "    # processes will read the snapshots and compute the lightcone crossings \n",
    "    for isnap in range(isnap_start, isnap_end):\n",
    "\n",
    "        PartA = PartBuff[iobj] # point PartA to previous PartB\n",
    "        headerOrderedA = headerOrderedB;\n",
    "        iobj +=1;\n",
    "        iobj %= 2;  #increment particle buffer index mod 2\n",
    "\n",
    "        PartB = PartBuff[iobj] # and set PartB pointer to this address\n",
    "\n",
    "        iexist = False;\n",
    "        while (not iexist):\n",
    "            input_fname = snapdir + 'ordered_snapshot.snap_{0:03d}.hdf5'.format(isnap)\n",
    "            # Check that file actually exists for this snapshot\n",
    "            iexist = os.path.exists(input_fname)\n",
    "            if (not iexist):\n",
    "                print('Snapshot file {0:03d} missing, skipping to next snapshot'.format(isnap))\n",
    "                isnap+=1;\n",
    "\n",
    "        # read the particle data and header\n",
    "        with h5py.File(input_fname,'r') as f:\n",
    "            PartBuff[iobj] = f['PartType1']\n",
    "        \n",
    "        headerOrderedB = snapshot_header(input_fname);\n",
    "\n",
    "        if (isnap>isnap_start):\n",
    "            iworldline = get_world_lines(PartA, PartB, headerOrderedA.redshift, headerOrderedB.redshift)\n",
    "            if(iworldline>0):\n",
    "                print(\"Found {0:0d} world lines between snapshots {1:03d} and {2:03d}\", NumLCPart, isnap-1,isnap);\n",
    "\n",
    "    if(NumLCPart>0):\n",
    "        # write out final files\n",
    "        #write_lightcone_data()\n",
    "        print('{0:0d} particles written to lightcone', NumLCPart)\n",
    "\n",
    "    print(\"Done: construct_world_lines\")\n",
    "    "
   ]
  },
  {
   "cell_type": "code",
   "execution_count": 103,
   "metadata": {},
   "outputs": [
    {
     "ename": "AttributeError",
     "evalue": "'numpy.void' object has no attribute 'Pos'",
     "output_type": "error",
     "traceback": [
      "\u001b[0;31m---------------------------------------------------------------------------\u001b[0m",
      "\u001b[0;31mAttributeError\u001b[0m                            Traceback (most recent call last)",
      "\u001b[0;32m<ipython-input-103-d3fce56331cd>\u001b[0m in \u001b[0;36m<module>\u001b[0;34m\u001b[0m\n\u001b[1;32m      1\u001b[0m \u001b[0mNparts\u001b[0m \u001b[0;34m=\u001b[0m \u001b[0;36m2\u001b[0m\u001b[0;34m**\u001b[0m\u001b[0;36m27\u001b[0m \u001b[0;34m+\u001b[0m\u001b[0;36m1\u001b[0m\u001b[0;34m\u001b[0m\u001b[0;34m\u001b[0m\u001b[0m\n\u001b[1;32m      2\u001b[0m \u001b[0mPartBuff\u001b[0m \u001b[0;34m=\u001b[0m \u001b[0mnp\u001b[0m\u001b[0;34m.\u001b[0m\u001b[0mempty\u001b[0m\u001b[0;34m(\u001b[0m\u001b[0;34m(\u001b[0m\u001b[0;36m2\u001b[0m\u001b[0;34m,\u001b[0m\u001b[0mNparts\u001b[0m\u001b[0;34m)\u001b[0m\u001b[0;34m,\u001b[0m \u001b[0mdtype\u001b[0m \u001b[0;34m=\u001b[0m \u001b[0mpart\u001b[0m\u001b[0;34m)\u001b[0m\u001b[0;34m\u001b[0m\u001b[0;34m\u001b[0m\u001b[0m\n\u001b[0;32m----> 3\u001b[0;31m \u001b[0mget_world_lines\u001b[0m\u001b[0;34m(\u001b[0m\u001b[0mPartBuff\u001b[0m\u001b[0;34m[\u001b[0m\u001b[0;36m0\u001b[0m\u001b[0;34m]\u001b[0m\u001b[0;34m,\u001b[0m \u001b[0mPartBuff\u001b[0m\u001b[0;34m[\u001b[0m\u001b[0;36m1\u001b[0m\u001b[0;34m]\u001b[0m\u001b[0;34m,\u001b[0m \u001b[0;36m0.03\u001b[0m\u001b[0;34m,\u001b[0m \u001b[0;36m0.015\u001b[0m\u001b[0;34m)\u001b[0m\u001b[0;34m\u001b[0m\u001b[0;34m\u001b[0m\u001b[0m\n\u001b[0m",
      "\u001b[0;32m<ipython-input-100-9bab6dfa7b49>\u001b[0m in \u001b[0;36mget_world_lines\u001b[0;34m(PartA, PartB, zA, zB)\u001b[0m\n\u001b[1;32m     17\u001b[0m     \u001b[0;32mfor\u001b[0m \u001b[0mn\u001b[0m \u001b[0;32min\u001b[0m \u001b[0mrange\u001b[0m\u001b[0;34m(\u001b[0m\u001b[0;36m1\u001b[0m\u001b[0;34m,\u001b[0m\u001b[0mNparts\u001b[0m\u001b[0;34m)\u001b[0m\u001b[0;34m:\u001b[0m\u001b[0;34m\u001b[0m\u001b[0;34m\u001b[0m\u001b[0m\n\u001b[1;32m     18\u001b[0m         \u001b[0;31m#particle A, B\u001b[0m\u001b[0;34m\u001b[0m\u001b[0;34m\u001b[0m\u001b[0;34m\u001b[0m\u001b[0m\n\u001b[0;32m---> 19\u001b[0;31m         \u001b[0mWL\u001b[0m\u001b[0;34m.\u001b[0m\u001b[0mset_A\u001b[0m\u001b[0;34m(\u001b[0m\u001b[0mPartA\u001b[0m\u001b[0;34m[\u001b[0m\u001b[0mn\u001b[0m\u001b[0;34m]\u001b[0m\u001b[0;34m)\u001b[0m\u001b[0;34m\u001b[0m\u001b[0;34m\u001b[0m\u001b[0m\n\u001b[0m\u001b[1;32m     20\u001b[0m         \u001b[0mWL\u001b[0m\u001b[0;34m.\u001b[0m\u001b[0mset_B\u001b[0m\u001b[0;34m(\u001b[0m\u001b[0mPartB\u001b[0m\u001b[0;34m[\u001b[0m\u001b[0mn\u001b[0m\u001b[0;34m]\u001b[0m\u001b[0;34m)\u001b[0m\u001b[0;34m\u001b[0m\u001b[0;34m\u001b[0m\u001b[0m\n\u001b[1;32m     21\u001b[0m \u001b[0;34m\u001b[0m\u001b[0m\n",
      "\u001b[0;32m<ipython-input-102-3a100cc4a1a8>\u001b[0m in \u001b[0;36mset_A\u001b[0;34m(self, p)\u001b[0m\n\u001b[1;32m     28\u001b[0m     \u001b[0;32mdef\u001b[0m \u001b[0mset_A\u001b[0m\u001b[0;34m(\u001b[0m\u001b[0mself\u001b[0m\u001b[0;34m,\u001b[0m \u001b[0mp\u001b[0m\u001b[0;34m)\u001b[0m\u001b[0;34m:\u001b[0m\u001b[0;34m\u001b[0m\u001b[0;34m\u001b[0m\u001b[0m\n\u001b[1;32m     29\u001b[0m         \u001b[0;31m#positions\u001b[0m\u001b[0;34m\u001b[0m\u001b[0;34m\u001b[0m\u001b[0;34m\u001b[0m\u001b[0m\n\u001b[0;32m---> 30\u001b[0;31m         \u001b[0mself\u001b[0m\u001b[0;34m.\u001b[0m\u001b[0mxA\u001b[0m \u001b[0;34m=\u001b[0m \u001b[0mp\u001b[0m\u001b[0;34m.\u001b[0m\u001b[0mPos\u001b[0m\u001b[0;34m[\u001b[0m\u001b[0;36m0\u001b[0m\u001b[0;34m]\u001b[0m\u001b[0;34m-\u001b[0m\u001b[0mself\u001b[0m\u001b[0;34m.\u001b[0m\u001b[0mxoff0\u001b[0m\u001b[0;34m\u001b[0m\u001b[0;34m\u001b[0m\u001b[0m\n\u001b[0m\u001b[1;32m     31\u001b[0m         \u001b[0mself\u001b[0m\u001b[0;34m.\u001b[0m\u001b[0myA\u001b[0m \u001b[0;34m=\u001b[0m \u001b[0mp\u001b[0m\u001b[0;34m.\u001b[0m\u001b[0mPos\u001b[0m\u001b[0;34m[\u001b[0m\u001b[0;36m1\u001b[0m\u001b[0;34m]\u001b[0m\u001b[0;34m-\u001b[0m\u001b[0mself\u001b[0m\u001b[0;34m.\u001b[0m\u001b[0myoff0\u001b[0m\u001b[0;34m\u001b[0m\u001b[0;34m\u001b[0m\u001b[0m\n\u001b[1;32m     32\u001b[0m         \u001b[0mself\u001b[0m\u001b[0;34m.\u001b[0m\u001b[0mzA\u001b[0m \u001b[0;34m=\u001b[0m \u001b[0mp\u001b[0m\u001b[0;34m.\u001b[0m\u001b[0mPos\u001b[0m\u001b[0;34m[\u001b[0m\u001b[0;36m2\u001b[0m\u001b[0;34m]\u001b[0m\u001b[0;34m-\u001b[0m\u001b[0mself\u001b[0m\u001b[0;34m.\u001b[0m\u001b[0mzoff0\u001b[0m\u001b[0;34m\u001b[0m\u001b[0;34m\u001b[0m\u001b[0m\n",
      "\u001b[0;31mAttributeError\u001b[0m: 'numpy.void' object has no attribute 'Pos'"
     ]
    }
   ],
   "source": [
    "Nparts = 2**27 +1\n",
    "PartBuff = np.empty((2,Nparts), dtype = part)\n",
    "get_world_lines(PartBuff[0], PartBuff[1], 0.03, 0.015)"
   ]
  },
  {
   "cell_type": "code",
   "execution_count": 100,
   "metadata": {},
   "outputs": [],
   "source": [
    "def get_world_lines(PartA, PartB, zA, zB):\n",
    "    # initialise worldline class for these two snapshots\n",
    "    WL = WorldLine(zA,zB)\n",
    "    WL.BoxSize = 750\n",
    "    WL.set_origin(LC.xobs, LC.yobs, LC.zobs)\n",
    "\n",
    "    #test whether any of the particle worldlines could lie in the redshift range specified for the light cone\n",
    "    if((LC.zmin > zA) | (LC.zmax < LC.zmin)):\n",
    "        if DEBUG & (ThisTask ==0):\n",
    "            print('LC.zmin; LC.zmax:= %14.7f\\t%14.7f;\\tzA:= %14.7f\\t%14.7f\\n'.format(LC.zmin,LC.zmax,zA,zB))\n",
    "        return 0\n",
    "\n",
    "    np = LC.nperiodic\n",
    "    Nparts = PartA.size\n",
    "    \n",
    "    # loop over all particles in this batch\n",
    "    for n in range(1,Nparts):\n",
    "        #particle A, B\n",
    "        WL.set_A(PartA[n])\n",
    "        WL.set_B(PartB[n])\n",
    "\n",
    "        WL.calc_pos_mean_delta()\n",
    "        WL.calc_vel_mean_delta()\n",
    "        \n",
    "        for ip in range(-np, np+1):\n",
    "            for jp in range(-np, np+1):\n",
    "                for kp in range(-np, np+1):\n",
    "                    WL.set_offset(ip, jp, kp)\n",
    "                    \n",
    "                    icross = WL.test_lightcone_crossing\n",
    "                    if(icross==1):\n",
    "                        #find lightcone intersection\n",
    "                        tLB=WL.get_lightcone_intersection();\n",
    "\n",
    "                        #get the position of the particle at lightcone crossing\n",
    "                        zzWL = WL.get_world_line(tLB)\n",
    "                        \n",
    "                        #test whether particles redshift is in the required range\n",
    "                        if ((zzWL>=LC.zmin) & (zzWL<=LC.zmax)):\n",
    "                            #add particle to the lightcone structure....\n",
    "                            NumLCPart+=1       # increase local counter\n",
    "                            NumLCPartTOT+=1    # increase global counter for LC particles\n",
    "\n",
    "                            LCPart[NumLCPart].Pos = WL.Pos\n",
    "                            LCPart[NumLCPart].Vel = WL.Vel\n",
    "                            LCPart[NumLCPart].Id = PartA[n].Id\n",
    "                            LCPart[NumLCPart].zz = WL.zz\n",
    "                            LCPart[NumLCPart].rad = WL.rad\n",
    "                            LCPart[NumLCPart].dec = WL.dec\n",
    "                            LCPart[NumLCPart].ra  = WL.ra\n",
    "    return NumLCPart"
   ]
  },
  {
   "cell_type": "code",
   "execution_count": 102,
   "metadata": {},
   "outputs": [],
   "source": [
    "class WorldLine:\n",
    "    def __init__(self, zA, zB):\n",
    "        # initialise cosmology for the worldline class\n",
    "        self.cosmo = FlatLambdaCDM(H0=100, Om0=0.30711520) \n",
    "            \n",
    "        self.zzA = zA\n",
    "        self.zzB = zB\n",
    "        \n",
    "        # calculate lookback times for each redshift\n",
    "        self.tLB_A = self.cosmo.lookback_time(zA)\n",
    "        self.tLB_B = self.cosmo.lookback_time(zB)\n",
    "        \n",
    "        # compute comoving distance to each snapshot\n",
    "        self.chiA = self.cosmo.comoving_distance(zA)\n",
    "        self.chiB = self.cosmo.comoving_distance(zB)\n",
    "        \n",
    "        # compute the mean time and time difference between snapshots A and B\n",
    "        self.Tbar = (self.tLB_A+self.tLB_B)/2.0\n",
    "        self.delT = self.tLB_A-self.tLB_B\n",
    "        \n",
    "        self.BoxSize = 750 #default box size\n",
    "        \n",
    "    def set_origin(self, xoff, yoff, zoff):\n",
    "        self.xoff0 = xoff * self.BoxSize\n",
    "        self.yoff0 = yoff * self.BoxSize\n",
    "        self.zoff0 = zoff * self.BoxSize\n",
    "              \n",
    "    def set_A(self, p):\n",
    "        #positions\n",
    "        self.xA = p.Pos[0]-self.xoff0\n",
    "        self.yA = p.Pos[1]-self.yoff0\n",
    "        self.zA = p.Pos[2]-self.zoff0\n",
    "        #periodic(&xA,&yA,&zA)\n",
    "    \n",
    "        # GADGET velocity correction factor\n",
    "        vfacA = np.sqrt(1+self.zA)\n",
    "        \n",
    "        #velocities\n",
    "        self.vxA = p.Vel[0]*vfacA \n",
    "        self.vyA = p.Vel[1]*vfacA \n",
    "        self.vzA = p.Vel[2]*vfacA \n",
    "        \n",
    "    def set_B(self,p):\n",
    "        #positions\n",
    "        self.xB = p.Pos[0]-self.xoff0\n",
    "        self.yB = p.Pos[1]-self.yoff0\n",
    "        self.zB = p.Pos[2]-self.zoff0\n",
    "        #periodic(&xA,&yA,&zA)\n",
    "    \n",
    "        vfacB = np.sqrt(1+self.zB)\n",
    "        #velocities\n",
    "        self.vxB = p.Vel[0]*vfacB  \n",
    "        self.vyB = p.Vel[1]*vfacB \n",
    "        self.vzB = p.Vel[2]*vfacB \n",
    "        \n",
    "    def calc_pos_mean_delta(self):\n",
    "        def mean_delta(a, b):\n",
    "            delta = b-a\n",
    "            if (abs(delta)>self.BoxSize/2.0):\n",
    "                #Modify Part A as light is travelling from B->A\n",
    "                if (delta > 0):\n",
    "                    b-=self.BoxSize\n",
    "                else:\n",
    "                    b+=self.BoxSize   \n",
    "            delta = b-a\n",
    "            return (a+b)/2, delta\n",
    "        \n",
    "        self.xbar, self.delx = mean_delta(self.xA,self.xB)\n",
    "        self.xbar, self.dely = mean_delta(self.yA,self.yB)\n",
    "        self.zbar, self.delx = mean_delta(self.zA,self.zB)\n",
    "    \n",
    "    def calc_vel_mean_delta(self):\n",
    "        def mean_delta(a, b):\n",
    "            return (a+b)/2, b-a\n",
    "        \n",
    "        self.vxbar, self.delvx = mean_delta(self.vxA,self.vxB)\n",
    "        self.vybar, self.delvy = mean_delta(self.vyA,self.vyB)\n",
    "        self.vzbar, self.delzx = mean_delta(self.vzA,self.vzB)\n",
    "\n",
    "    def set_offset(self, i, j, k):\n",
    "        self.xoff = i * self.BoxSize\n",
    "        self.yoff = j * self.BoxSize\n",
    "        self.zoff = k * self.BoxSize\n",
    "        \n",
    "        # update mean position parameters with offset\n",
    "        self.xbar = self.xbar + self.xoff\n",
    "        self.ybar = self.ybar + self.yoff\n",
    "        self.zbar = self.zbar + self.zoff\n",
    "        "
   ]
  },
  {
   "cell_type": "code",
   "execution_count": null,
   "metadata": {},
   "outputs": [],
   "source": []
  }
 ],
 "metadata": {
  "kernelspec": {
   "display_name": "Python 3 Cosma",
   "language": "python",
   "name": "python3_env"
  },
  "language_info": {
   "codemirror_mode": {
    "name": "ipython",
    "version": 3
   },
   "file_extension": ".py",
   "mimetype": "text/x-python",
   "name": "python",
   "nbconvert_exporter": "python",
   "pygments_lexer": "ipython3",
   "version": "3.6.9"
  }
 },
 "nbformat": 4,
 "nbformat_minor": 2
}
