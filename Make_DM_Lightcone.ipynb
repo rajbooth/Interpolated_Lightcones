{
 "cells": [
  {
   "cell_type": "code",
   "execution_count": 2,
   "metadata": {},
   "outputs": [],
   "source": [
    "from astropy import cosmology\n",
    "from astropy.cosmology import Planck15, FlatLambdaCDM, z_at_value\n",
    "from astropy.constants import *\n",
    "import scipy.integrate as integrate\n",
    "from scipy.interpolate import UnivariateSpline as spl\n",
    "from scipy.constants import *\n",
    "import astropy.units as uni\n",
    "import numpy as np\n",
    "import h5py\n",
    "import math\n",
    "import time,sys,os\n",
    "import datetime"
   ]
  },
  {
   "cell_type": "code",
   "execution_count": 3,
   "metadata": {},
   "outputs": [],
   "source": [
    "# Builds a DM lighcone from Gadget dark matter snapshots"
   ]
  },
  {
   "cell_type": "code",
   "execution_count": 4,
   "metadata": {},
   "outputs": [
    {
     "name": "stdout",
     "output_type": "stream",
     "text": [
      "All imports OK\n"
     ]
    }
   ],
   "source": [
    "print ('All imports OK')"
   ]
  },
  {
   "cell_type": "code",
   "execution_count": 5,
   "metadata": {},
   "outputs": [],
   "source": [
    "# initialise cosmology\n",
    "cosmo = FlatLambdaCDM(H0=100, Om0=0.30711520) "
   ]
  },
  {
   "cell_type": "code",
   "execution_count": 6,
   "metadata": {},
   "outputs": [],
   "source": [
    "# Calculate z for range of comoving distances\n",
    "z = np.zeros(3000)\n",
    "d_c = np.zeros(3000)\n",
    "H = np.zeros(3000)\n",
    "\n",
    "for d in range(1,3000):\n",
    "    d_c[d] = d\n",
    "    z[d] = z_at_value(cosmo.comoving_distance, d * uni.Mpc)\n",
    "    H[d]  = cosmo.H(z[d]).value\n",
    "    \n",
    "# create spine for quick lookup\n",
    "d2z = spl(d_c,z)\n",
    "z2H = spl(z, H, s=0)"
   ]
  },
  {
   "cell_type": "code",
   "execution_count": 7,
   "metadata": {},
   "outputs": [],
   "source": [
    "def read_header(snap):\n",
    "    snapshot_fname = '/cosma6/data/dp004/dc-boot5/Ordered_Snapshots/Npart_512_Box_750-Fiducial/ordered_snapshot.snap_{0:03d}.hdf5'.format(snap)\n",
    "    if os.path.exists(snapshot_fname):\n",
    "        with h5py.File(snapshot_fname,'r') as f:\n",
    "            h = f['Header']\n",
    "            z=h.attrs['Redshift']\n",
    "    else:\n",
    "            z = -1\n",
    "    return z"
   ]
  },
  {
   "cell_type": "code",
   "execution_count": 8,
   "metadata": {},
   "outputs": [],
   "source": [
    "first_snap = 110\n",
    "snaps = 18\n",
    "last_snap = first_snap + snaps"
   ]
  },
  {
   "cell_type": "code",
   "execution_count": 9,
   "metadata": {},
   "outputs": [
    {
     "name": "stdout",
     "output_type": "stream",
     "text": [
      "Valid snapshots = 14\n"
     ]
    }
   ],
   "source": [
    "# read headers for all snapshots to get redshifts\n",
    "snap_list = []\n",
    "zz = np.empty(0, dtype = np.float32)\n",
    "for snap in range(first_snap, last_snap):\n",
    "    z = read_header(snap)\n",
    "    if (z>=0):\n",
    "        zz = np.append(zz,z)\n",
    "        snap_list.append(snap)\n",
    "\n",
    "snapshots = np.array(snap_list)\n",
    "print('Valid snapshots =', len(snapshots))\n",
    "\n",
    "# calculate maximum redshift for each snapshot bin boundary\n",
    "# as mid point between nominal redshift value for snapshot\n",
    "z_max = zz[:-1:] + (zz[1::] - zz[:-1:])/2\n",
    "z_max = np.append(z_max, 2*zz[-1] - z_max[-1])"
   ]
  },
  {
   "cell_type": "code",
   "execution_count": 10,
   "metadata": {},
   "outputs": [
    {
     "data": {
      "text/plain": [
       "array([110, 111, 113, 114, 115, 116, 117, 119, 120, 121, 123, 124, 126,\n",
       "       127])"
      ]
     },
     "execution_count": 10,
     "metadata": {},
     "output_type": "execute_result"
    }
   ],
   "source": [
    "snapshots"
   ]
  },
  {
   "cell_type": "code",
   "execution_count": 11,
   "metadata": {},
   "outputs": [
    {
     "data": {
      "text/plain": [
       "array([2.01266093e-01, 1.83048686e-01, 1.65107548e-01, 1.47438491e-01,\n",
       "       1.30037388e-01, 1.12900176e-01, 9.60228526e-02, 7.94014768e-02,\n",
       "       6.30321670e-02, 4.69111006e-02, 3.10345130e-02, 1.53986966e-02,\n",
       "       2.22044605e-16, 2.22044605e-16])"
      ]
     },
     "execution_count": 11,
     "metadata": {},
     "output_type": "execute_result"
    }
   ],
   "source": [
    "zz"
   ]
  },
  {
   "cell_type": "code",
   "execution_count": 12,
   "metadata": {},
   "outputs": [],
   "source": [
    "# Calculate maximum comoving distance corresponding to redshift bin maxima\n",
    "Dc_max = np.zeros(len(snapshots))\n",
    "Dc_z = np.zeros(len(snapshots))\n",
    "for sn in snapshots:\n",
    "    ind = np.where(snapshots == sn)[0][0]\n",
    "    Dc_max[ind] = cosmo.comoving_distance(z_max[ind]).value\n",
    "    Dc_z[ind] = cosmo.comoving_distance(zz[ind]).value\n",
    "Dc_min = 0   "
   ]
  },
  {
   "cell_type": "code",
   "execution_count": 13,
   "metadata": {},
   "outputs": [
    {
     "data": {
      "text/plain": [
       "array([ 5.74536988e+02,  5.24953935e+02,  4.75646728e+02,  4.26626360e+02,\n",
       "        3.77903517e+02,  3.29488555e+02,  2.81391494e+02,  2.33621996e+02,\n",
       "        1.86189359e+02,  1.39102503e+02,  9.23699644e+01,  4.59998830e+01,\n",
       "       -2.09771740e-12, -2.09771740e-12])"
      ]
     },
     "execution_count": 13,
     "metadata": {},
     "output_type": "execute_result"
    }
   ],
   "source": [
    "Dc_z"
   ]
  },
  {
   "cell_type": "code",
   "execution_count": 15,
   "metadata": {},
   "outputs": [],
   "source": [
    "# define particle datatype\n",
    "vect = np.dtype([('x', np.float32),('y', np.float32),('z', np.float32)])\n",
    "part = np.dtype([('pos', vect),('vel', vect),('ID', np.ulonglong), ('z', np.float32), ('r', np.float32),('RA', np.float32),('Dec', np.float32)])"
   ]
  },
  {
   "cell_type": "code",
   "execution_count": 18,
   "metadata": {},
   "outputs": [],
   "source": [
    "# Load each snapshot\n",
    "def do_snap(snap):  \n",
    "    snapshot_fname = '/cosma6/data/dp004/dc-boot5/Ordered_Snapshots/Npart_512_Box_750-Fiducial/ordered_snapshot.snap_{0:03d}.hdf5'.format(snap)\n",
    "    print('Loading snapshot {0:0d}, time = {1:%H:%M:%S}'.format(snap, datetime.datetime.now()))\n",
    "    with h5py.File(snapshot_fname,'r') as f:\n",
    "        pts = f['PartType1']\n",
    "        \n",
    "        for oct in range(reps): \n",
    "            #relocate origin to each corner of the simulation box for each octant\n",
    "            \n",
    "            if (reps>1):\n",
    "                orig_x = oct%2 * BoxSize\n",
    "                orig_y = oct//2%2 * BoxSize\n",
    "                orig_z = oct//4 * BoxSize\n",
    "            else:\n",
    "                # for single box, set origin to mid point in box\n",
    "                orig_x = BoxSize/2\n",
    "                orig_y = BoxSize/2\n",
    "                orig_z = BoxSize/2\n",
    "    \n",
    "            # translate particle positions to new origin for each octant\n",
    "            x = pts['pos']['x'] - orig_x\n",
    "            y = pts['pos']['y'] - orig_y\n",
    "            z = pts['pos']['z'] - orig_z\n",
    "            \n",
    "            #repackage pos as vect\n",
    "            pos_o = np.array(list(zip(x,y,z)), dtype = vect)\n",
    "            \n",
    "            # calculate comoving radial distance, RA and Dec\n",
    "            r = np.sqrt(x*x + y*y + z*z)\n",
    "            dec = np.rad2deg(np.arcsin(z/r))\n",
    "            ra = np.rad2deg(np.arctan2(y,x))\n",
    "\n",
    "            r_max = np.amax(r)\n",
    "            r_min = np.amin(r)\n",
    "            \n",
    "            # lookup redshift corresponding to this r\n",
    "            zz = d2z(r)           \n",
    "            \n",
    "            #Check whether particle within shell max and min\n",
    "            ind = np.where(snapshots == snap)[0][0]\n",
    "            max_r = Dc_max[ind]         \n",
    "            if (ind >= Dc_max.size-1):\n",
    "                min_r = 0\n",
    "            else:\n",
    "                min_r = Dc_max[ind+1]\n",
    "                \n",
    "            f = (r < max_r) & (r >= min_r)\n",
    "            \n",
    "            print('Snapshot {0:03d}, index = {5:03d}, r_max = {1:04.1f}, r_min = {2:04.1f}, Dc_max A = {3:04.1f}, Dc_max B = {4:04.1f}'\n",
    "                  .format(snap, r_max, r_min, max_r, min_r, ind))\n",
    "            \n",
    "            print('Number of particles in snapshot {0:0d} = {1:0d}'.format(snap,f.sum()))\n",
    "\n",
    "            # resize and append to dataset. Use f to filter only those galaxies within snapshot redshift boundaries\n",
    "            #p = np.array(list(zip(pos_o[f], pts['vel'][f], pts['ID'][f], zz[f], r[f], ra[f], dec[f])),  dtype= part)\n",
    "            p = np.array(list(zip(pos_o, pts['vel'], pts['ID'], zz, r, ra, dec)),  dtype= part)\n",
    "            with h5py.File(fname, 'a') as fl:\n",
    "                dsname = 'LC_Particles_snap_{0:03}'.format(snap)\n",
    "                print ('Saving particles in dataset {0:s}'.format(dsname))\n",
    "                parts= fl.create_dataset(dsname, data = p[f])"
   ]
  },
  {
   "cell_type": "code",
   "execution_count": 19,
   "metadata": {},
   "outputs": [
    {
     "name": "stdout",
     "output_type": "stream",
     "text": [
      "Loading snapshot 110, time = 10:57:45\n",
      "Snapshot 110, index = 000, r_max = 649.5, r_min = 01.6, Dc_max A = 549.8, Dc_max B = 500.4\n",
      "Number of particles in snapshot 110 = 8089358\n",
      "Saving particles in dataset LC_Particles_snap_110\n",
      "Loading snapshot 111, time = 11:07:23\n",
      "Snapshot 111, index = 001, r_max = 649.5, r_min = 01.6, Dc_max A = 500.4, Dc_max B = 451.2\n",
      "Number of particles in snapshot 111 = 16215875\n",
      "Saving particles in dataset LC_Particles_snap_111\n",
      "Loading snapshot 113, time = 11:16:15\n",
      "Snapshot 113, index = 002, r_max = 649.5, r_min = 01.6, Dc_max A = 451.2, Dc_max B = 402.3\n",
      "Number of particles in snapshot 113 = 22963114\n",
      "Saving particles in dataset LC_Particles_snap_113\n",
      "Loading snapshot 114, time = 11:25:20\n",
      "Snapshot 114, index = 003, r_max = 649.5, r_min = 01.6, Dc_max A = 402.3, Dc_max B = 353.7\n",
      "Number of particles in snapshot 114 = 26034590\n",
      "Saving particles in dataset LC_Particles_snap_114\n",
      "Loading snapshot 115, time = 11:33:34\n",
      "Snapshot 115, index = 004, r_max = 649.5, r_min = 01.6, Dc_max A = 353.7, Dc_max B = 305.5\n",
      "Number of particles in snapshot 115 = 21164137\n",
      "Saving particles in dataset LC_Particles_snap_115\n",
      "Loading snapshot 116, time = 11:41:06\n",
      "Snapshot 116, index = 005, r_max = 649.5, r_min = 01.6, Dc_max A = 305.5, Dc_max B = 257.6\n",
      "Number of particles in snapshot 116 = 15135492\n",
      "Saving particles in dataset LC_Particles_snap_116\n",
      "Loading snapshot 117, time = 11:48:35\n",
      "Snapshot 117, index = 006, r_max = 649.5, r_min = 01.6, Dc_max A = 257.6, Dc_max B = 210.0\n",
      "Number of particles in snapshot 117 = 10165894\n",
      "Saving particles in dataset LC_Particles_snap_117\n",
      "Loading snapshot 119, time = 11:56:32\n",
      "Snapshot 119, index = 007, r_max = 649.5, r_min = 01.6, Dc_max A = 210.0, Dc_max B = 162.7\n",
      "Number of particles in snapshot 119 = 6211042\n",
      "Saving particles in dataset LC_Particles_snap_119\n",
      "Loading snapshot 120, time = 12:04:43\n",
      "Snapshot 120, index = 008, r_max = 649.5, r_min = 01.6, Dc_max A = 162.7, Dc_max B = 115.8\n",
      "Number of particles in snapshot 120 = 3431760\n",
      "Saving particles in dataset LC_Particles_snap_120\n",
      "Loading snapshot 121, time = 12:12:27\n",
      "Snapshot 121, index = 009, r_max = 649.5, r_min = 01.6, Dc_max A = 115.8, Dc_max B = 69.2\n",
      "Number of particles in snapshot 121 = 1654517\n",
      "Saving particles in dataset LC_Particles_snap_121\n",
      "Loading snapshot 123, time = 12:20:37\n",
      "Snapshot 123, index = 010, r_max = 649.5, r_min = 01.6, Dc_max A = 69.2, Dc_max B = 23.0\n",
      "Number of particles in snapshot 123 = 463011\n",
      "Saving particles in dataset LC_Particles_snap_123\n",
      "Loading snapshot 124, time = 12:28:41\n",
      "Snapshot 124, index = 011, r_max = 649.5, r_min = 01.6, Dc_max A = 23.0, Dc_max B = -0.0\n",
      "Number of particles in snapshot 124 = 21016\n",
      "Saving particles in dataset LC_Particles_snap_124\n",
      "Loading snapshot 126, time = 12:36:42\n",
      "Snapshot 126, index = 012, r_max = 649.5, r_min = 01.6, Dc_max A = -0.0, Dc_max B = -0.0\n",
      "Number of particles in snapshot 126 = 0\n",
      "Saving particles in dataset LC_Particles_snap_126\n",
      "Loading snapshot 127, time = 12:44:41\n",
      "Snapshot 127, index = 013, r_max = 649.5, r_min = 01.6, Dc_max A = -0.0, Dc_max B = 00.0\n",
      "Number of particles in snapshot 127 = 0\n",
      "Saving particles in dataset LC_Particles_snap_127\n"
     ]
    }
   ],
   "source": [
    "# open output file\n",
    "lightcone_path = '/cosma7/data/dp004/dc-boot5/Lightcone/DM_shells_indexed/'\n",
    "fname = lightcone_path + 'L750.hdf5'\n",
    "reps = 1\n",
    "BoxSize = 750.0\n",
    "\n",
    "fo = h5py.File(fname,'w')\n",
    "fo.close()\n",
    "\n",
    "for sn in snapshots:\n",
    "    do_snap(sn)"
   ]
  },
  {
   "cell_type": "code",
   "execution_count": null,
   "metadata": {},
   "outputs": [],
   "source": []
  }
 ],
 "metadata": {
  "kernelspec": {
   "display_name": "Python 3 Cosma",
   "language": "python",
   "name": "python3_env"
  },
  "language_info": {
   "codemirror_mode": {
    "name": "ipython",
    "version": 3
   },
   "file_extension": ".py",
   "mimetype": "text/x-python",
   "name": "python",
   "nbconvert_exporter": "python",
   "pygments_lexer": "ipython3",
   "version": "3.6.9"
  }
 },
 "nbformat": 4,
 "nbformat_minor": 2
}
