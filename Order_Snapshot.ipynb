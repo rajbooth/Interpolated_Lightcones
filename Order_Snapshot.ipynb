{
 "cells": [
  {
   "cell_type": "code",
   "execution_count": 13,
   "metadata": {},
   "outputs": [],
   "source": [
    "# Reorders Gadget snapshots into sorted HDF5 file\n",
    "\n",
    "import numpy as np\n",
    "import h5py\n",
    "import math\n",
    "import time,sys,os\n",
    "import datetime\n",
    "import readsnap\n",
    "from mpi4py import MPI\n",
    "from collections import Counter\n",
    "import matplotlib.pyplot as plt"
   ]
  },
  {
   "cell_type": "code",
   "execution_count": 2,
   "metadata": {},
   "outputs": [],
   "source": [
    "#define particle datatype\n",
    "vect = np.dtype([('x', np.float32),('y', np.float32),('z', np.float32)])\n",
    "part = np.dtype([('ID', np.ulonglong),('pos', vect),('vel', vect)])"
   ]
  },
  {
   "cell_type": "code",
   "execution_count": 3,
   "metadata": {},
   "outputs": [],
   "source": [
    "snap = 62\n",
    "#snapshot_fname = '/cosma7/data/dp004/dc-smit4/Daemmerung/Planck2013-Npart_512_Box_750-Fiducial/snapdir_{0:03d}/Planck2013-L750-N512-Fiducial_{0:03d}.0'.format(snap)\n",
    "snapshot_fname =  '/cosma6/data/dp004/dc-smit4/Daemmerung/Planck2013-Npart_2048_Box_3000-Fiducial/run1/snapdir_{0:03d}/Planck2013-L3000-N2048-Fiducial_{0:03d}.0'.format(snap)\n",
    " \n",
    "head = readsnap.snapshot_header(snapshot_fname)\n",
    "\n",
    "# read relevant paramaters on the snapshot\n",
    "Npart    = head.npart\n",
    "BoxSize  = head.boxsize/1e3 #Mpc/h\n",
    "Masses   = head.massarr*1e10 #Msun/h\n",
    "Nall     = head.nall  \n",
    "filenum  = head.filenum\n",
    "Omega_m  = head.omega_m\n",
    "Omega_l  = head.omega_l\n",
    "redshift = head.redshift\n",
    "fformat  = head.format\n",
    "Hubble   = head.hubble\n",
    "Nall_hi  = head.nall_hi"
   ]
  },
  {
   "cell_type": "code",
   "execution_count": 4,
   "metadata": {},
   "outputs": [
    {
     "name": "stdout",
     "output_type": "stream",
     "text": [
      "[      0 2084113       0       0       0       0]\n",
      "[0 0 0 0 0 0]\n",
      "4096\n",
      "1\n",
      "Number of particles = 8589934592\n"
     ]
    }
   ],
   "source": [
    "print(Npart)\n",
    "print(Nall)\n",
    "print(filenum)\n",
    "print(fformat)\n",
    "print('Number of particles = {0:d}'.format(Nall_hi[1]* 2**32 + Nall[1]))"
   ]
  },
  {
   "cell_type": "code",
   "execution_count": 28,
   "metadata": {},
   "outputs": [],
   "source": [
    "Nparts_tot = 0\n",
    "max_id = 0\n",
    "min_id = 100000\n",
    "id =np.empty(0, dtype=np.uint64)"
   ]
  },
  {
   "cell_type": "code",
   "execution_count": 29,
   "metadata": {},
   "outputs": [
    {
     "name": "stdout",
     "output_type": "stream",
     "text": [
      "Sub = 0, max ID = 8363077852, min ID = 100000, tot parts = 2100367\n",
      "Sub = 100, max ID = 8589934175, min ID = 454, tot parts = 212004282\n",
      "Sub = 200, max ID = 8589934175, min ID = 454, tot parts = 421789046\n",
      "Sub = 300, max ID = 8589934175, min ID = 7, tot parts = 631518988\n",
      "Sub = 400, max ID = 8589934175, min ID = 7, tot parts = 841314038\n",
      "Sub = 500, max ID = 8589934505, min ID = 7, tot parts = 1051146238\n",
      "Sub = 600, max ID = 8589934528, min ID = 7, tot parts = 1260922382\n",
      "Sub = 700, max ID = 8589934528, min ID = 7, tot parts = 1470667103\n",
      "Sub = 800, max ID = 8589934528, min ID = 7, tot parts = 1680386772\n",
      "Sub = 900, max ID = 8589934528, min ID = 7, tot parts = 1890131975\n",
      "Sub = 1000, max ID = 8589934528, min ID = 7, tot parts = 2099918111\n",
      "Sub = 1100, max ID = 8589934528, min ID = 7, tot parts = 2309739442\n",
      "Sub = 1200, max ID = 8589934528, min ID = 7, tot parts = 2519473490\n",
      "Sub = 1300, max ID = 8589934528, min ID = 7, tot parts = 2729290717\n",
      "Sub = 1400, max ID = 8589934528, min ID = 7, tot parts = 2939050552\n",
      "Sub = 1500, max ID = 8589934528, min ID = 7, tot parts = 3148748296\n",
      "Sub = 1600, max ID = 8589934552, min ID = 7, tot parts = 3358406777\n",
      "Sub = 1700, max ID = 8589934552, min ID = 7, tot parts = 3568080379\n",
      "Sub = 1800, max ID = 8589934552, min ID = 7, tot parts = 3777757097\n",
      "Sub = 1900, max ID = 8589934552, min ID = 7, tot parts = 3987456707\n",
      "Sub = 2000, max ID = 8589934552, min ID = 7, tot parts = 4197115057\n",
      "Sub = 2100, max ID = 8589934552, min ID = 7, tot parts = 4406824950\n",
      "Sub = 2200, max ID = 8589934552, min ID = 7, tot parts = 4616543722\n",
      "Sub = 2300, max ID = 8589934552, min ID = 7, tot parts = 4826292518\n",
      "Sub = 2400, max ID = 8589934552, min ID = 7, tot parts = 5035945359\n",
      "Sub = 2500, max ID = 8589934552, min ID = 7, tot parts = 5245678474\n",
      "Sub = 2600, max ID = 8589934592, min ID = 1, tot parts = 5455300164\n",
      "Sub = 2700, max ID = 8589934592, min ID = 1, tot parts = 5665033268\n",
      "Sub = 2800, max ID = 8589934592, min ID = 1, tot parts = 5874738369\n",
      "Sub = 2900, max ID = 8589934592, min ID = 1, tot parts = 6084487945\n",
      "Sub = 3000, max ID = 8589934592, min ID = 1, tot parts = 6294143600\n",
      "Sub = 3100, max ID = 8589934592, min ID = 1, tot parts = 6503783379\n",
      "Sub = 3200, max ID = 8589934592, min ID = 1, tot parts = 6713413561\n",
      "Sub = 3300, max ID = 8589934592, min ID = 1, tot parts = 6923078864\n",
      "Sub = 3400, max ID = 8589934592, min ID = 1, tot parts = 7132690081\n",
      "Sub = 3500, max ID = 8589934592, min ID = 1, tot parts = 7342421755\n",
      "Sub = 3600, max ID = 8589934592, min ID = 1, tot parts = 7552028421\n",
      "Sub = 3700, max ID = 8589934592, min ID = 1, tot parts = 7761633352\n",
      "Sub = 3800, max ID = 8589934592, min ID = 1, tot parts = 7971340266\n",
      "Sub = 3900, max ID = 8589934592, min ID = 1, tot parts = 8181002060\n",
      "Sub = 4000, max ID = 8589934592, min ID = 1, tot parts = 8390743324\n",
      "Finished, total parts = 8589934592\n"
     ]
    }
   ],
   "source": [
    "\n",
    "for sub in range(filenum):\n",
    "    snapshot_fname =  '/cosma6/data/dp004/dc-smit4/Daemmerung/Planck2013-Npart_2048_Box_3000-Fiducial/run1/snapdir_{0:03d}/Planck2013-L3000-N2048-Fiducial_{0:03d}.{1:d}'.format(snap, sub)\n",
    "    head = readsnap.snapshot_header(snapshot_fname)\n",
    "    Npart = head.npart[1]\n",
    "    Nparts_tot += Npart\n",
    "    # read particle IDs\n",
    "    ids = readsnap.read_block(snapshot_fname, \"ID  \", 1)\n",
    "    id_max = np.amax(ids)\n",
    "    id_min = np.amin(ids)\n",
    "    if (id_max>max_id): max_id = id_max\n",
    "    if (id_min<min_id): min_id = id_min\n",
    "    if (sub%100 == 0): print('Sub = {0:d}, max ID = {1:d}, min ID = {2:d}, tot parts = {3:d}'.format(sub, max_id, min_id, Nparts_tot))\n",
    "        \n",
    "print('Finished, total parts = {0:d}'.format(Nparts_tot))"
   ]
  },
  {
   "cell_type": "code",
   "execution_count": 7,
   "metadata": {},
   "outputs": [
    {
     "data": {
      "text/plain": [
       "numpy.uint64"
      ]
     },
     "execution_count": 7,
     "metadata": {},
     "output_type": "execute_result"
    }
   ],
   "source": [
    "type(ids[0])"
   ]
  },
  {
   "cell_type": "code",
   "execution_count": 13,
   "metadata": {},
   "outputs": [
    {
     "data": {
      "image/png": "[encoded data removed]",
      "text/plain": [
       "<Figure size 432x288 with 1 Axes>"
      ]
     },
     "metadata": {
      "needs_background": "light"
     },
     "output_type": "display_data"
    }
   ],
   "source": [
    "plt.hist(id , density=True, log=False, bins=100)\n",
    "plt.show()"
   ]
  },
  {
   "cell_type": "code",
   "execution_count": 9,
   "metadata": {},
   "outputs": [],
   "source": [
    "c = Counter(id)"
   ]
  },
  {
   "cell_type": "code",
   "execution_count": null,
   "metadata": {},
   "outputs": [],
   "source": [
    "i"
   ]
  },
  {
   "cell_type": "code",
   "execution_count": 105,
   "metadata": {},
   "outputs": [],
   "source": [
    "verbose = False\n",
    "DEBUG = 2"
   ]
  },
  {
   "cell_type": "code",
   "execution_count": 94,
   "metadata": {},
   "outputs": [
    {
     "name": "stdout",
     "output_type": "stream",
     "text": [
      "Sub-snapshot 600, DM particles = 2088392, time = 13:59:15\n",
      "Sub-snapshot 700, DM particles = 2106131, time = 14:03:08\n",
      "Finished reading unordered files, time = 14:05:55\n"
     ]
    }
   ],
   "source": [
    "# do a loop over all files\n",
    "ptype = 1 #dark matter\n",
    "chunks = 16\n",
    "fcount = filenum//chunks\n",
    "chunk = 2\n",
    "snap = 62\n",
    "start_file = chunk * fcount\n",
    "end_file = start_file + fcount\n",
    "\n",
    "#input file \n",
    "#snapshot_fname = '/cosma7/data/dp004/dc-smit4/Daemmerung/Planck2013-Npart_512_Box_750-Fiducial/snapdir_{0:03d}/Planck2013-L750-N512-Fiducial_{0:03d}'.format(snap)\n",
    "snapshot_fname =  '/cosma6/data/dp004/dc-smit4/Daemmerung/Planck2013-Npart_2048_Box_3000-Fiducial/run1/snapdir_{0:03d}/Planck2013-L3000-N2048-Fiducial_{0:03d}'.format(snap)\n",
    "\n",
    "# write galaxy data for each redshift bin into its own file\n",
    "output_path = '/cosma6/data/dp004/dc-boot5/Ordered_Snapshots/'\n",
    "ordered_snap = output_path + 'ordered_snapshot_L3000.snap__new_{0:03d}.hdf5'.format(snap)\n",
    "\n",
    "# create structured array to hold all particles\n",
    "Nparts = Nall_hi[1]* 2**32 + Nall[1]+1\n",
    "pts = np.zeros(Nparts, dtype = part)\n",
    "\n",
    "for i in range(start_file, end_file):     \n",
    "    # find the name of the sub-snapshot\n",
    "    if filenum==1:       snapshot = snapshot_fname\n",
    "    else:                snapshot = snapshot_fname + '.{0:d}'.format(i)\n",
    "\n",
    "    # find the local particles in the sub-snapshot\n",
    "    head  = readsnap.snapshot_header(snapshot)\n",
    "    npart = head.npart\n",
    "\n",
    "    if verbose:  print ('Sub-snapshot {0:d}, DM particles = {1:d} \\n'.format(i, npart[ptype]))\n",
    "    if (DEBUG>1 and i%100 == 0):  print ('Sub-snapshot {0:d}, DM particles = {1:d}, time = {2:%H:%M:%S}'.format(i, npart[ptype], datetime.datetime.now()))\n",
    "\n",
    "    p = np.empty(npart[ptype], dtype=part)\n",
    "    \n",
    "    # read particle IDs\n",
    "    ids = readsnap.read_block(snapshot, \"ID  \", ptype)\n",
    "\n",
    "    # read positions in Mpc/h\n",
    "    pos = readsnap.read_block(snapshot, \"POS \", ptype)\n",
    "\n",
    "    # read velocities in km/s \n",
    "    vel = readsnap.read_block(snapshot, \"VEL \", ptype)\n",
    "\n",
    "    # Assign particle parameters to particle array in ID order\n",
    "    pts['ID'][ids] = ids\n",
    "    pts['pos']['x'][ids] = pos[::,0]\n",
    "    pts['pos']['y'][ids] = pos[::,1]\n",
    "    pts['pos']['z'][ids] = pos[::,2]\n",
    "    pts['vel']['x'][ids] = vel[::,0]\n",
    "    pts['vel']['y'][ids] = vel[::,1]\n",
    "    pts['vel']['z'][ids] = vel[::,2]\n",
    "    \n",
    "if (DEBUG>1):  print ('Finished reading unordered files, time = {0:%H:%M:%S}'.format(datetime.datetime.now()))\n"
   ]
  },
  {
   "cell_type": "code",
   "execution_count": 100,
   "metadata": {},
   "outputs": [
    {
     "data": {
      "text/plain": [
       "array([        63,         64,         65, ..., 4294967237, 4294967238,\n",
       "       4294967239], dtype=uint64)"
      ]
     },
     "execution_count": 100,
     "metadata": {},
     "output_type": "execute_result"
    }
   ],
   "source": [
    "pts['ID'][pts['ID']>0]"
   ]
  },
  {
   "cell_type": "code",
   "execution_count": 101,
   "metadata": {},
   "outputs": [
    {
     "name": "stdout",
     "output_type": "stream",
     "text": [
      "8589934593\n"
     ]
    }
   ],
   "source": [
    "print(Nparts)"
   ]
  },
  {
   "cell_type": "code",
   "execution_count": null,
   "metadata": {},
   "outputs": [],
   "source": [
    "\n",
    "with h5py.File(ordered_snap,'a') as fo:\n",
    "    # create new dataset to hold all particles\n",
    "    if (chunk==0):\n",
    "        parts= fo.create_dataset('Particles', data = pts, chunks = True)\n",
    "    else:\n",
    "        parts= fo['Particles']\n",
    "         # merge new particles from this chunk into this dataset\n",
    "        nblocks = 32\n",
    "        for k in range(nblocks):\n",
    "            print('Merging block {0:01d}, time = {1:%H:%M:%S}'.format(k,datetime.datetime.now()))\n",
    "            parts_per_block  = Nparts//nblocks\n",
    "            first_part = parts_per_block * k\n",
    "            last_part = first_part + parts_per_block           \n",
    "            parts[first_part:last_part] = np.where(pts['ID'][first_part:last_part]>0,pts[first_part:last_part],parts[first_part:last_part]) \n",
    "    if (DEBUG>1):  print ('Finished merging new particles to dataset, time = {0:%H:%M:%S}'.format(datetime.datetime.now()))"
   ]
  },
  {
   "cell_type": "code",
   "execution_count": 16,
   "metadata": {},
   "outputs": [],
   "source": [
    "snap = 63\n",
    "output_path = '/cosma6/data/dp004/dc-boot5/Ordered_Snapshots/'\n",
    "ordered_snap = output_path + 'ordered_snapshot.snap_{0:03d}.hdf5'.format(snap)"
   ]
  },
  {
   "cell_type": "code",
   "execution_count": 25,
   "metadata": {},
   "outputs": [
    {
     "data": {
      "text/plain": [
       "'/cosma6/data/dp004/dc-boot5/Ordered_Snapshots/ordered_snapshot_L3000.snap__new_062.hdf5'"
      ]
     },
     "execution_count": 25,
     "metadata": {},
     "output_type": "execute_result"
    }
   ],
   "source": [
    "ordered_snap"
   ]
  },
  {
   "cell_type": "code",
   "execution_count": null,
   "metadata": {},
   "outputs": [],
   "source": [
    "p = np.zeros(Nall_hi[1]* 2**32 + Nall[1]+1, dtype = part)\n",
    "\n",
    "with h5py.File(ordered_snap,'r') as fi:\n",
    "    d0 = fi['Chunk_00']\n",
    "    d1 = fi['Chunk_01']\n",
    "    p = d0 | d1"
   ]
  },
  {
   "cell_type": "code",
   "execution_count": null,
   "metadata": {},
   "outputs": [],
   "source": [
    "p[:100]"
   ]
  },
  {
   "cell_type": "code",
   "execution_count": 26,
   "metadata": {},
   "outputs": [
    {
     "data": {
      "text/plain": [
       "(8589934593,)"
      ]
     },
     "execution_count": 26,
     "metadata": {},
     "output_type": "execute_result"
    }
   ],
   "source": [
    "pts.shape"
   ]
  },
  {
   "cell_type": "code",
   "execution_count": 13,
   "metadata": {},
   "outputs": [
    {
     "data": {
      "text/plain": [
       "32501895.958082717"
      ]
     },
     "execution_count": 13,
     "metadata": {},
     "output_type": "execute_result"
    }
   ],
   "source": [
    "Lbox = 750\n",
    "chi_max = 290\n",
    "Nparts = 134217728\n",
    "Nparts * 4/3*np.pi * chi_max**3 / Lbox**3"
   ]
  },
  {
   "cell_type": "code",
   "execution_count": 13,
   "metadata": {},
   "outputs": [
    {
     "data": {
      "text/plain": [
       "134217729"
      ]
     },
     "execution_count": 13,
     "metadata": {},
     "output_type": "execute_result"
    }
   ],
   "source": [
    "100663297 + 33554432"
   ]
  },
  {
   "cell_type": "code",
   "execution_count": 16,
   "metadata": {},
   "outputs": [
    {
     "data": {
      "text/plain": [
       "4194304.0"
      ]
     },
     "execution_count": 16,
     "metadata": {},
     "output_type": "execute_result"
    }
   ],
   "source": [
    "Nparts/32"
   ]
  },
  {
   "cell_type": "code",
   "execution_count": 17,
   "metadata": {},
   "outputs": [
    {
     "data": {
      "text/plain": [
       "1851959040"
      ]
     },
     "execution_count": 17,
     "metadata": {},
     "output_type": "execute_result"
    }
   ],
   "source": [
    "38582480 * 48"
   ]
  },
  {
   "cell_type": "code",
   "execution_count": 24,
   "metadata": {},
   "outputs": [
    {
     "name": "stdout",
     "output_type": "stream",
     "text": [
      "1\n"
     ]
    }
   ],
   "source": [
    "i +=1 \n",
    "i = i%2\n",
    "print(i)"
   ]
  },
  {
   "cell_type": "code",
   "execution_count": 32,
   "metadata": {},
   "outputs": [
    {
     "data": {
      "text/plain": [
       "2.1333333333333333"
      ]
     },
     "execution_count": 32,
     "metadata": {},
     "output_type": "execute_result"
    }
   ],
   "source": [
    "(4**3)*2 /60"
   ]
  },
  {
   "cell_type": "code",
   "execution_count": 14,
   "metadata": {},
   "outputs": [
    {
     "data": {
      "text/plain": [
       "16777216.0"
      ]
     },
     "execution_count": 14,
     "metadata": {},
     "output_type": "execute_result"
    }
   ],
   "source": [
    "Nparts/8"
   ]
  },
  {
   "cell_type": "code",
   "execution_count": 15,
   "metadata": {},
   "outputs": [
    {
     "data": {
      "text/plain": [
       "2147483648"
      ]
     },
     "execution_count": 15,
     "metadata": {},
     "output_type": "execute_result"
    }
   ],
   "source": [
    "2**31"
   ]
  },
  {
   "cell_type": "code",
   "execution_count": 2,
   "metadata": {},
   "outputs": [],
   "source": [
    "a = np.zeros(10, dtype = int)\n",
    "b = np.arange(10)"
   ]
  },
  {
   "cell_type": "code",
   "execution_count": 4,
   "metadata": {},
   "outputs": [
    {
     "name": "stdout",
     "output_type": "stream",
     "text": [
      "[0 1 2 3 4 5 6 7 8 9]\n"
     ]
    }
   ],
   "source": [
    "print(b)"
   ]
  },
  {
   "cell_type": "code",
   "execution_count": 5,
   "metadata": {},
   "outputs": [
    {
     "data": {
      "text/plain": [
       "array([0, 0, 0, 0, 0, 0, 6, 7, 8, 9])"
      ]
     },
     "execution_count": 5,
     "metadata": {},
     "output_type": "execute_result"
    }
   ],
   "source": [
    "np.where(b>5, b, a)"
   ]
  },
  {
   "cell_type": "code",
   "execution_count": 6,
   "metadata": {},
   "outputs": [],
   "source": [
    "a = np.zeros(10, dtype = int)\n",
    "with h5py.File('test', 'w') as f:\n",
    "    f.create_dataset('numbs', data = a)"
   ]
  },
  {
   "cell_type": "code",
   "execution_count": 12,
   "metadata": {},
   "outputs": [
    {
     "name": "stdout",
     "output_type": "stream",
     "text": [
      "[0 0 0 0 0 0 6 7 8 9]\n"
     ]
    }
   ],
   "source": [
    "b = np.arange(10)\n",
    "with h5py.File('test', 'a') as f:\n",
    "    d  = f['numbs']\n",
    "    d[::] = np.where(b>5,b,d)\n",
    "    print(d[::])"
   ]
  },
  {
   "cell_type": "code",
   "execution_count": 13,
   "metadata": {},
   "outputs": [
    {
     "name": "stdout",
     "output_type": "stream",
     "text": [
      "[0 0 0 0 0 0 6 7 8 9]\n"
     ]
    }
   ],
   "source": [
    "with h5py.File('test', 'r') as f:\n",
    "    d  = f['numbs']\n",
    "    print(d[::])"
   ]
  },
  {
   "cell_type": "code",
   "execution_count": 29,
   "metadata": {},
   "outputs": [
    {
     "data": {
      "text/plain": [
       "34.71545433998108"
      ]
     },
     "execution_count": 29,
     "metadata": {},
     "output_type": "execute_result"
    }
   ],
   "source": [
    "4659429408 / 134217728"
   ]
  },
  {
   "cell_type": "code",
   "execution_count": 22,
   "metadata": {},
   "outputs": [
    {
     "data": {
      "text/plain": [
       "274848"
      ]
     },
     "execution_count": 22,
     "metadata": {},
     "output_type": "execute_result"
    }
   ],
   "source": [
    "4908 * 56"
   ]
  },
  {
   "cell_type": "code",
   "execution_count": 24,
   "metadata": {},
   "outputs": [],
   "source": [
    "snap = 60\n",
    "sub = 0\n",
    "fname = '/cosma7/data/dp004/dc-boot5/Ordered_Snapshots/Npart_2048_Box_3000-Fiducial/snapdir_{0:02d}/ordered_snapshot.snap_{0:03d}.{1:02d}.hdf5'.format(snap,sub)"
   ]
  },
  {
   "cell_type": "code",
   "execution_count": 25,
   "metadata": {},
   "outputs": [
    {
     "name": "stdout",
     "output_type": "stream",
     "text": [
      "153391689\n"
     ]
    }
   ],
   "source": [
    "\n",
    "with h5py.File(fname, 'r') as f:\n",
    "    d  = f['Parts']\n",
    "    #print(d['ID'][:10:])\n",
    "    #print(d['ID'][-10::])\n",
    "    print(d.size)\n",
    "    #print(f.keys())\n",
    "    pts =np.empty(f['Parts'].shape, dtype=part)\n",
    "    f['Parts'].read_direct(pts)  "
   ]
  },
  {
   "cell_type": "code",
   "execution_count": 26,
   "metadata": {},
   "outputs": [
    {
     "data": {
      "text/plain": [
       "array([ 0,  1,  2,  3,  4,  5,  6,  7,  8,  9, 10, 11, 12, 13, 14, 15, 16,\n",
       "       17, 18, 19, 20, 21, 22, 23, 24, 25, 26, 27, 28, 29, 30, 31, 32, 33,\n",
       "       34, 35, 36, 37, 38, 39, 40, 41, 42, 43, 44, 45, 46, 47, 48, 49, 50,\n",
       "       51, 52, 53, 54, 55, 56, 57, 58, 59, 60, 61, 62, 63, 64, 65, 66, 67,\n",
       "       68, 69, 70, 71, 72, 73, 74, 75, 76, 77, 78, 79, 80, 81, 82, 83, 84,\n",
       "       85, 86, 87, 88, 89, 90, 91, 92, 93, 94, 95, 96, 97, 98, 99],\n",
       "      dtype=uint64)"
      ]
     },
     "execution_count": 26,
     "metadata": {},
     "output_type": "execute_result"
    }
   ],
   "source": [
    "pts['ID'][:100:]"
   ]
  },
  {
   "cell_type": "code",
   "execution_count": 27,
   "metadata": {},
   "outputs": [
    {
     "data": {
      "text/plain": [
       "array([0.       , 6.8892884, 6.932551 , 6.9081573, 6.347544 , 6.6823335,\n",
       "       6.0644145, 5.5351205, 5.0106874, 5.5494833], dtype=float32)"
      ]
     },
     "execution_count": 27,
     "metadata": {},
     "output_type": "execute_result"
    }
   ],
   "source": [
    "pts['pos']['x'][:10]"
   ]
  },
  {
   "cell_type": "code",
   "execution_count": 78,
   "metadata": {},
   "outputs": [],
   "source": [
    "ids = pts['ID']"
   ]
  },
  {
   "cell_type": "code",
   "execution_count": 79,
   "metadata": {},
   "outputs": [],
   "source": [
    "Nparts = pts.size//2\n",
    "block = 1"
   ]
  },
  {
   "cell_type": "code",
   "execution_count": 80,
   "metadata": {},
   "outputs": [],
   "source": [
    "f = tuple([(ids > block * Nparts) & (ids <= (block+1) * Nparts)])\n",
    "i = ids[f] - (block * Nparts)\n",
    "ids2 = pts['ID'][f]"
   ]
  },
  {
   "cell_type": "code",
   "execution_count": 14,
   "metadata": {},
   "outputs": [
    {
     "data": {
      "text/plain": [
       "4294967296"
      ]
     },
     "execution_count": 14,
     "metadata": {},
     "output_type": "execute_result"
    }
   ],
   "source": [
    "2**32"
   ]
  },
  {
   "cell_type": "code",
   "execution_count": 82,
   "metadata": {},
   "outputs": [
    {
     "data": {
      "text/plain": [
       "array([       1,        2,        3, ..., 76695842, 76695843, 76695844],\n",
       "      dtype=uint64)"
      ]
     },
     "execution_count": 82,
     "metadata": {},
     "output_type": "execute_result"
    }
   ],
   "source": [
    "4294967296"
   ]
  },
  {
   "cell_type": "code",
   "execution_count": 20,
   "metadata": {},
   "outputs": [
    {
     "data": {
      "text/plain": [
       "8589934592"
      ]
     },
     "execution_count": 20,
     "metadata": {},
     "output_type": "execute_result"
    }
   ],
   "source": [
    "2**33"
   ]
  },
  {
   "cell_type": "code",
   "execution_count": null,
   "metadata": {},
   "outputs": [],
   "source": []
  }
 ],
 "metadata": {
  "kernelspec": {
   "display_name": "Python 3 Cosma",
   "language": "python",
   "name": "python3_env"
  },
  "language_info": {
   "codemirror_mode": {
    "name": "ipython",
    "version": 3
   },
   "file_extension": ".py",
   "mimetype": "text/x-python",
   "name": "python",
   "nbconvert_exporter": "python",
   "pygments_lexer": "ipython3",
   "version": "3.6.9"
  }
 },
 "nbformat": 4,
 "nbformat_minor": 2
}
