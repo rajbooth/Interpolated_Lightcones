{
 "cells": [
  {
   "cell_type": "code",
   "execution_count": 1,
   "metadata": {},
   "outputs": [],
   "source": [
    "import numpy as np\n",
    "import os\n",
    "import sys\n",
    "import math"
   ]
  },
  {
   "cell_type": "code",
   "execution_count": 2,
   "metadata": {},
   "outputs": [],
   "source": [
    "def read_header(snap):\n",
    "    snapshot_fname = '/cosma7/data/dp004/dc-smit4/Daemmerung/Planck2013-Npart_512_Box_750-Fiducial/snapdir_{0:03d}/Planck2013-L750-N512-Fiducial_{0:03d}.0'.format(snap)\n",
    "    #snapshot_fname =  '/cosma6/data/dp004/dc-smit4/Daemmerung/Planck2013-Npart_2048_Box_3000-Fiducial/run1/snapdir_{0:03d}/Planck2013-L3000-N2048-Fiducial_{0:03d}.0'.format(snap)\n",
    "    f =open(snapshot_fname,'rb')\n",
    "    blocksize = np.fromfile(f,dtype=np.int32,count=1)\n",
    "    \n",
    "    npart = np.fromfile(f,dtype=np.int32,count=6)\n",
    "    massarr = np.fromfile(f,dtype=np.float64,count=6)\n",
    "    time = (np.fromfile(f,dtype=np.float64,count=1))[0]\n",
    "    redshift = (np.fromfile(f,dtype=np.float64,count=1))[0]\n",
    "    sfr = (np.fromfile(f,dtype=np.int32,count=1))[0]\n",
    "    feedback = (np.fromfile(f,dtype=np.int32,count=1))[0]\n",
    "    nall = np.fromfile(f,dtype=np.uint32,count=6)\n",
    "    cooling = (np.fromfile(f,dtype=np.int32,count=1))[0]\n",
    "    filenum = (np.fromfile(f,dtype=np.int32,count=1))[0]\n",
    "    boxsize = (np.fromfile(f,dtype=np.float64,count=1))[0]\n",
    "    omega_m = (np.fromfile(f,dtype=np.float64,count=1))[0]\n",
    "    omega_l = (np.fromfile(f,dtype=np.float64,count=1))[0]\n",
    "    hubble = (np.fromfile(f,dtype=np.float64,count=1))[0]\n",
    "    w0 = (np.fromfile(f,dtype=np.float32,count=1))[0]\n",
    "    wa = (np.fromfile(f,dtype=np.float32,count=1))[0]\n",
    "    #flag_stellarage = (np.fromfile(f,dtype=np.int32,count=1))[0]\n",
    "    #flag_metals = (np.fromfile(f,dtype=np.int32,count=1))[0]\n",
    "    npartTotalHighWord = np.fromfile(f,dtype=np.uint32,count=6)\n",
    "    \n",
    "    f.close()\n",
    "    print('Header read',blocksize, npart, nall, filenum, boxsize, hubble, wa, w0 , npartTotalHighWord)"
   ]
  },
  {
   "cell_type": "code",
   "execution_count": 3,
   "metadata": {},
   "outputs": [
    {
     "name": "stdout",
     "output_type": "stream",
     "text": [
      "Header read [256] [     0 798754      0      0      0      0] [        0 134217728         0         0         0         0] 168 750.0 0.6777 0.0 0.0 [0 0 0 0 0 0]\n"
     ]
    }
   ],
   "source": [
    "read_header(60)"
   ]
  },
  {
   "cell_type": "code",
   "execution_count": 23,
   "metadata": {},
   "outputs": [
    {
     "data": {
      "text/plain": [
       "4294967296"
      ]
     },
     "execution_count": 23,
     "metadata": {},
     "output_type": "execute_result"
    }
   ],
   "source": [
    "2**32"
   ]
  },
  {
   "cell_type": "code",
   "execution_count": 24,
   "metadata": {},
   "outputs": [
    {
     "data": {
      "text/plain": [
       "8589934592"
      ]
     },
     "execution_count": 24,
     "metadata": {},
     "output_type": "execute_result"
    }
   ],
   "source": [
    "2048**3"
   ]
  },
  {
   "cell_type": "code",
   "execution_count": null,
   "metadata": {},
   "outputs": [],
   "source": []
  }
 ],
 "metadata": {
  "kernelspec": {
   "display_name": "Python 3 Cosma",
   "language": "python",
   "name": "python3_env"
  },
  "language_info": {
   "codemirror_mode": {
    "name": "ipython",
    "version": 3
   },
   "file_extension": ".py",
   "mimetype": "text/x-python",
   "name": "python",
   "nbconvert_exporter": "python",
   "pygments_lexer": "ipython3",
   "version": "3.6.9"
  }
 },
 "nbformat": 4,
 "nbformat_minor": 2
}
