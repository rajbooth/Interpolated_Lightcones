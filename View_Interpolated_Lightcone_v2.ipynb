{
 "cells": [
  {
   "cell_type": "code",
   "execution_count": 7,
   "metadata": {},
   "outputs": [],
   "source": [
    "import h5py\n",
    "import numpy as np\n",
    "import math\n",
    "import matplotlib.pyplot as plt\n",
    "import matplotlib.colors as colors\n",
    "from matplotlib.colors import ListedColormap, LinearSegmentedColormap\n",
    "from matplotlib import cm\n",
    "import matplotlib\n",
    "import scipy.integrate as integrate\n",
    "from scipy.interpolate import UnivariateSpline as spl\n",
    "from struct import unpack\n",
    "from scipy import stats \n",
    "from astropy.cosmology import Planck15 as cosmo, z_at_value\n",
    "from astropy import coordinates as coord\n",
    "import healpy as hp\n",
    "import sys,os\n",
    "import datetime"
   ]
  },
  {
   "cell_type": "code",
   "execution_count": 8,
   "metadata": {},
   "outputs": [],
   "source": [
    "# define particle datatype\n",
    "vect = np.dtype([('x', np.float32),('y', np.float32),('z', np.float32)])\n",
    "part = np.dtype([('pos', vect),('vel', vect),('ID', np.ulonglong), ('z', np.float32), ('r', np.float32),('RA', np.float32),('Dec', np.float32)])"
   ]
  },
  {
   "cell_type": "code",
   "execution_count": 10,
   "metadata": {},
   "outputs": [
    {
     "name": "stdout",
     "output_type": "stream",
     "text": [
      "File 0.0 read, time = 17:52:12\n",
      "File 1.0 read, time = 17:52:35\n",
      "File 2.0 read, time = 17:52:59\n",
      "File 3.0 read, time = 17:53:26\n",
      "File 4.0 read, time = 17:53:50\n",
      "File 5.0 read, time = 17:54:14\n",
      "File 6.0 read, time = 17:54:36\n",
      "File 7.0 read, time = 17:54:55\n",
      "File 8.0 read, time = 17:55:14\n",
      "File 9.0 read, time = 17:55:34\n",
      "File 10.0 read, time = 17:55:53\n",
      "File 11.0 read, time = 17:56:14\n",
      "File 12.0 read, time = 17:56:38\n",
      "File 13.0 read, time = 17:57:00\n",
      "File 14.0 read, time = 17:57:46\n",
      "File 15.0 read, time = 17:58:18\n"
     ]
    }
   ],
   "source": [
    "L = 3000  #boxsize\n",
    "N = 2048  #number of particles ** 3\n",
    "nfiles = 16\n",
    "subfiles = 1 # NB not every core will output 2 subfiles.\n",
    "z = 0.35 #redshift limit for lightcone\n",
    "orig = 7 # origin of lightcone coordinate system for this buid, e.g, 0 = (0,0,0), 1 = (0.5,0.0,0.0), 3 = (0.5, 0.5, 0.0) etc,in units of BoxSize\n",
    "nparts = 2320000000\n",
    "\n",
    "#fpath = '/cosma7/data/dp004/dc-boot5/Lightcone/Interpolated_Lightcone/redshift{0:0.2f}/Lightcone{1:0d}/'.format(z,orig)\n",
    "#fpath = '/cosma7/data/dp004/dc-boot5/Lightcone/Interpolated_Lightcone/Lightcone{0:0d}/'.format(orig)\n",
    "fpath = '/cosma7/data/dp004/dc-boot5/Lightcone/Interpolated_Lightcone/'\n",
    "n = 0 #part counter\n",
    "p = np.empty(nparts, dtype=part)\n",
    "for fileno in range(nfiles):\n",
    "    for sub in range(subfiles):\n",
    "        fname = fpath + 'Planck2013-L{0:d}-N{1:d}-Fiducial-Lightcone.{2:d}.{3:d}'.format(L, N, fileno, sub)\n",
    "        # Check that file actually exists for this snapshot\n",
    "        if os.path.exists(fname):\n",
    "            with h5py.File(fname,'r') as f:\n",
    "                s = f['LC_Particles'].size\n",
    "                p[n:n+s] = f['LC_Particles']\n",
    "                n += s\n",
    "            print('File {0:d}.{1:d} read, time = {2:%H:%M:%S}'.format(fileno, sub, datetime.datetime.now()))\n",
    "        else:\n",
    "             print('Lightcone file {0:d}.{1:d} does not exist'.format(fileno, sub))"
   ]
  },
  {
   "cell_type": "code",
   "execution_count": null,
   "metadata": {},
   "outputs": [],
   "source": []
  }
 ],
 "metadata": {
  "kernelspec": {
   "display_name": "Python 3 Cosma",
   "language": "python",
   "name": "python3_env"
  },
  "language_info": {
   "codemirror_mode": {
    "name": "ipython",
    "version": 3
   },
   "file_extension": ".py",
   "mimetype": "text/x-python",
   "name": "python",
   "nbconvert_exporter": "python",
   "pygments_lexer": "ipython3",
   "version": "3.6.9"
  }
 },
 "nbformat": 4,
 "nbformat_minor": 2
}
