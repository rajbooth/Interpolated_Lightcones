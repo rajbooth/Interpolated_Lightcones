{
 "cells": [
  {
   "cell_type": "code",
   "execution_count": 7,
   "metadata": {},
   "outputs": [],
   "source": [
    "import numpy as np\n",
    "import os\n",
    "import sys\n",
    "import math\n",
    "import h5py\n",
    "import readsnap"
   ]
  },
  {
   "cell_type": "code",
   "execution_count": 8,
   "metadata": {},
   "outputs": [],
   "source": [
    "#define particle datatype\n",
    "vect = np.dtype([('x', np.float32),('y', np.float32),('z', np.float32)])\n",
    "part = np.dtype([('ID', np.ulonglong),('pos', vect),('vel', vect)])"
   ]
  },
  {
   "cell_type": "code",
   "execution_count": 9,
   "metadata": {},
   "outputs": [],
   "source": [
    "snap = 117\n",
    "snapshot_fname = '/cosma7/data/dp004/dc-smit4/Daemmerung/Planck2013-Npart_512_Box_750-Fiducial/snapdir_{0:03d}/Planck2013-L750-N512-Fiducial_{0:03d}.0'.format(snap)\n",
    "#snapshot_fname =  '/cosma6/data/dp004/dc-smit4/Daemmerung/Planck2013-Npart_2048_Box_3000-Fiducial/run1/snapdir_{0:03d}/Planck2013-L3000-N2048-Fiducial_{0:03d}.0'.format(snap)\n",
    " \n",
    "head = readsnap.snapshot_header(snapshot_fname)"
   ]
  },
  {
   "cell_type": "code",
   "execution_count": 31,
   "metadata": {},
   "outputs": [
    {
     "name": "stdout",
     "output_type": "stream",
     "text": [
      "New ds created\n"
     ]
    }
   ],
   "source": [
    "# load existing ordered  snapshot\n",
    "ordered_fname = '/cosma6/data/dp004/dc-boot5/Ordered_Snapshots/Npart_512_Box_750-Fiducial/ordered_snapshot.snap_{0:03d}.hdf5'.format(snap)\n",
    "with h5py.File(ordered_fname,'a') as f:\n",
    "    h = f.create_dataset(\"Header\", dtype = 'f')\n",
    "    h.attrs.create('Time', head.time)\n",
    "    h.attrs.create('Redshift', head.redshift)\n",
    "    h.attrs.create('BoxSize', head.boxsize)\n",
    "    h.attrs.create('NumFilesPerSnapshot', 1)\n",
    "    h.attrs.create('Omega0', head.omega_m)\n",
    "    h.attrs.create('OmegaLambda', head.omega_l)\n",
    "    h.attrs.create('HubbleParam', head.hubble)\n",
    "    h.attrs.create('MassTable', head.massarr)\n",
    "    h.attrs.create('NumPart_ThisFile', head.npart)\n",
    "    h.attrs.create('NumPart_Total', head.nall + head.nall_hi * 2**32)\n",
    "    h.attrs.create('Flag_Cooling', head.cooling)\n",
    "    h.attrs.create('Format', 'hdf5')\n",
    "    \n",
    "    ds = f['ordered_parts']\n",
    "    f.create_dataset('PartType1/Coordinates',data = ds['pos'])\n",
    "    f.create_dataset('PartType1/Velocities',data = ds['vel'])\n",
    "    f.create_dataset('PartType1/ParticleIDs',data =ds['ID'])\n",
    "    \n",
    "    print('New ds created')\n",
    "    del f['ordered_parts']"
   ]
  },
  {
   "cell_type": "code",
   "execution_count": 21,
   "metadata": {},
   "outputs": [],
   "source": [
    "def update_header(ordered_fname):\n",
    "     with h5py.File(ordered_fname,'a') as fi:\n",
    "        h = fi['Header']\n",
    "        h.attrs['NumPart_ThisFile'] = h.attrs['NumPart_Total']\n",
    "        #print (h.attrs['NumFilesPerSnapshot'], h.attrs['NumPart_Total'], h.attrs['NumPart_ThisFile']  )\n",
    "        #print (fi.keys())\n",
    "        print('Snap {0:2d} done'.format(snap))"
   ]
  },
  {
   "cell_type": "code",
   "execution_count": 23,
   "metadata": {},
   "outputs": [
    {
     "name": "stdout",
     "output_type": "stream",
     "text": [
      "Snap 113 done\n",
      "Snap 114 done\n",
      "Snap 115 done\n",
      "Snap 116 done\n",
      "Snap 117 done\n",
      "Snap 118 missing\n",
      "Snap 119 done\n",
      "Snap 120 done\n",
      "Snap 121 done\n",
      "Snap 122 missing\n",
      "Snap 123 done\n",
      "Snap 124 done\n",
      "Snap 125 missing\n",
      "Snap 126 done\n",
      "Snap 127 done\n"
     ]
    }
   ],
   "source": [
    "for snap in range(113, 128):\n",
    "    # Check that file actually exists for this snapshot\n",
    "    #ordered_fname = '/cosma6/data/dp004/dc-boot5/Ordered_Snapshots/Npart_512_Box_750-Fiducial/ordered_snapshot.snap_{0:03d}.hdf5'.format(snap)\n",
    "    ordered_fname = '/cosma6/data/dp004/dc-boot5/Ordered_Snapshots/Npart_512_Box_750-Fiducial/ordered_snapshot.snap_{0:03d}.hdf5'.format(snap)\n",
    "\n",
    "    if os.path.exists(ordered_fname):\n",
    "        update_header(ordered_fname)\n",
    "    else:\n",
    "        print('Snap {0:2d} missing'.format(snap))"
   ]
  },
  {
   "cell_type": "code",
   "execution_count": 19,
   "metadata": {},
   "outputs": [
    {
     "name": "stdout",
     "output_type": "stream",
     "text": [
      "<KeysViewHDF5 ['Header', 'PartType1']>\n",
      "1 [        0 134217728         0         0         0         0] [     0 801936      0      0      0      0]\n",
      "[0 1 2 3 4 5 6 7 8 9]\n",
      "[(  0.       ,   0.     ,  0.       ) (749.62305  , 742.13635,  1.3334603)\n",
      " (749.4407   , 741.81793,  1.4683721) (  0.9115747, 742.3372 ,  3.3210018)\n",
      " (  1.7837795, 742.4564 ,  5.2505813) (  1.587592 , 742.79974,  7.188479 )\n",
      " (  1.3806626, 743.377  ,  9.275988 ) (  1.3175293, 743.94946, 10.408505 )\n",
      " (  1.0517321, 744.7907 , 12.741033 ) (  1.304157 , 745.4803 , 14.204021 )]\n",
      "[(  0.      ,    0.     ,   0.      ) ( 60.968998, -386.59592,  61.999577)\n",
      " (-11.403959, -401.2491 ,  38.813835) ( 33.84523 , -379.94733,  23.415049)\n",
      " ( 75.8855  , -377.05493,  48.98939 ) ( 74.35765 , -361.78244,  64.71091 )\n",
      " ( 73.2155  , -332.175  ,  90.250916) ( 72.5216  , -311.97   ,  81.0137  )\n",
      " ( 61.45097 , -272.02625, 123.73509 ) ( 66.048645, -237.63681, 133.8675  )]\n"
     ]
    }
   ],
   "source": [
    "snap = 117\n",
    "ordered_fname = '/cosma6/data/dp004/dc-boot5/Ordered_Snapshots/Npart_512_Box_750-Fiducial/ordered_snapshot.snap_{0:03d}.hdf5'.format(snap)\n",
    "with h5py.File(ordered_fname,'r') as f:\n",
    "    print(f.keys())\n",
    "    h = f['Header']\n",
    "    print (h.attrs['NumFilesPerSnapshot'], h.attrs['NumPart_Total'], h.attrs['NumPart_ThisFile']  )\n",
    "    pts = f['PartType1']\n",
    "    print(pts[:10:]['ID'])\n",
    "    print(pts[:10:]['pos'])\n",
    "    print(pts[:10:]['vel'])\n",
    "\n",
    "    parts = pts[:10:]"
   ]
  },
  {
   "cell_type": "code",
   "execution_count": 6,
   "metadata": {},
   "outputs": [
    {
     "data": {
      "text/plain": [
       "array([(0, (  0.       ,   0.     ,  0.       ), (  0.      ,    0.     ,   0.      )),\n",
       "       (1, (749.62305  , 742.13635,  1.3334603), ( 60.968998, -386.59592,  61.999577)),\n",
       "       (2, (749.4407   , 741.81793,  1.4683721), (-11.403959, -401.2491 ,  38.813835)),\n",
       "       (3, (  0.9115747, 742.3372 ,  3.3210018), ( 33.84523 , -379.94733,  23.415049)),\n",
       "       (4, (  1.7837795, 742.4564 ,  5.2505813), ( 75.8855  , -377.05493,  48.98939 )),\n",
       "       (5, (  1.587592 , 742.79974,  7.188479 ), ( 74.35765 , -361.78244,  64.71091 )),\n",
       "       (6, (  1.3806626, 743.377  ,  9.275988 ), ( 73.2155  , -332.175  ,  90.250916)),\n",
       "       (7, (  1.3175293, 743.94946, 10.408505 ), ( 72.5216  , -311.97   ,  81.0137  )),\n",
       "       (8, (  1.0517321, 744.7907 , 12.741033 ), ( 61.45097 , -272.02625, 123.73509 )),\n",
       "       (9, (  1.304157 , 745.4803 , 14.204021 ), ( 66.048645, -237.63681, 133.8675  ))],\n",
       "      dtype=[('ID', '<u8'), ('pos', [('x', '<f4'), ('y', '<f4'), ('z', '<f4')]), ('vel', [('x', '<f4'), ('y', '<f4'), ('z', '<f4')])])"
      ]
     },
     "execution_count": 6,
     "metadata": {},
     "output_type": "execute_result"
    }
   ],
   "source": [
    "parts"
   ]
  },
  {
   "cell_type": "code",
   "execution_count": 51,
   "metadata": {},
   "outputs": [
    {
     "data": {
      "text/plain": [
       "array([(0, (  0.       ,   0.     ,  0.       ), (  0.      ,    0.     ,   0.      )),\n",
       "       (1, (749.62305  , 742.13635,  1.3334603), ( 60.968998, -386.59592,  61.999577)),\n",
       "       (2, (749.4407   , 741.81793,  1.4683721), (-11.403959, -401.2491 ,  38.813835)),\n",
       "       (3, (  0.9115747, 742.3372 ,  3.3210018), ( 33.84523 , -379.94733,  23.415049)),\n",
       "       (4, (  1.7837795, 742.4564 ,  5.2505813), ( 75.8855  , -377.05493,  48.98939 )),\n",
       "       (5, (  1.587592 , 742.79974,  7.188479 ), ( 74.35765 , -361.78244,  64.71091 )),\n",
       "       (6, (  1.3806626, 743.377  ,  9.275988 ), ( 73.2155  , -332.175  ,  90.250916)),\n",
       "       (7, (  1.3175293, 743.94946, 10.408505 ), ( 72.5216  , -311.97   ,  81.0137  )),\n",
       "       (8, (  1.0517321, 744.7907 , 12.741033 ), ( 61.45097 , -272.02625, 123.73509 )),\n",
       "       (9, (  1.304157 , 745.4803 , 14.204021 ), ( 66.048645, -237.63681, 133.8675  ))],\n",
       "      dtype=[('ID', '<u8'), ('pos', [('x', '<f4'), ('y', '<f4'), ('z', '<f4')]), ('vel', [('x', '<f4'), ('y', '<f4'), ('z', '<f4')])])"
      ]
     },
     "execution_count": 51,
     "metadata": {},
     "output_type": "execute_result"
    }
   ],
   "source": [
    "snap = 70\n",
    "new_fname = '/cosma6/data/dp004/dc-boot5/Ordered_Snapshots/Npart_512_Box_750-Fiducial/ordered_snapshot.snap_{0:03d}.hdf5'.format(snap)\n",
    "with h5py.File(new_fname,'w') as f:\n",
    "        f.create_dataset('PartType1',data = parts)"
   ]
  },
  {
   "cell_type": "code",
   "execution_count": 49,
   "metadata": {},
   "outputs": [
    {
     "data": {
      "text/plain": [
       "4294967296"
      ]
     },
     "execution_count": 49,
     "metadata": {},
     "output_type": "execute_result"
    }
   ],
   "source": [
    "134217728 * 32"
   ]
  },
  {
   "cell_type": "code",
   "execution_count": null,
   "metadata": {},
   "outputs": [],
   "source": [
    "4294971394"
   ]
  }
 ],
 "metadata": {
  "kernelspec": {
   "display_name": "Python 3 Cosma",
   "language": "python",
   "name": "python3_env"
  },
  "language_info": {
   "codemirror_mode": {
    "name": "ipython",
    "version": 3
   },
   "file_extension": ".py",
   "mimetype": "text/x-python",
   "name": "python",
   "nbconvert_exporter": "python",
   "pygments_lexer": "ipython3",
   "version": "3.6.9"
  }
 },
 "nbformat": 4,
 "nbformat_minor": 2
}
